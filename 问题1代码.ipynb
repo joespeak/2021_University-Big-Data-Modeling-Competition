{
 "cells": [
  {
   "cell_type": "code",
   "execution_count": 185,
   "metadata": {},
   "outputs": [],
   "source": [
    "import numpy as np\n",
    "import pandas as pd\n",
    "import matplotlib.pyplot as plt\n",
    "import seaborn as sns\n",
    "import math\n",
    "from  datetime import datetime\n",
    "from sklearn.preprocessing import LabelEncoder\n",
    "import warnings\n",
    "warnings.filterwarnings('ignore')\n",
    "\n",
    "pd.set_option('display.max_columns',None)\n",
    "pd.set_option('display.max_rows',150)"
   ]
  },
  {
   "cell_type": "code",
   "execution_count": 27,
   "metadata": {},
   "outputs": [],
   "source": [
    "train_data = pd.read_excel(r\"../data/A_data.xlsx\")\n",
    "test_data = pd.read_excel(r\"../data/submit.xlsx\")"
   ]
  },
  {
   "cell_type": "code",
   "execution_count": 28,
   "metadata": {},
   "outputs": [],
   "source": [
    "used_cols = [\"时间\",\"基站编号\",\"小区编号\",\"小区内的平均用户数\",\"小区PDCP层所发送的下行数据的总吞吐量比特\",\n",
    "\"小区PDCP层所接收到的上行数据的总吞吐量比特\",\"平均激活用户数\"]"
   ]
  },
  {
   "cell_type": "code",
   "execution_count": 29,
   "metadata": {},
   "outputs": [],
   "source": [
    "train = train_data[used_cols]"
   ]
  },
  {
   "cell_type": "code",
   "execution_count": 30,
   "metadata": {},
   "outputs": [
    {
     "data": {
      "text/html": [
       "<div>\n",
       "<style scoped>\n",
       "    .dataframe tbody tr th:only-of-type {\n",
       "        vertical-align: middle;\n",
       "    }\n",
       "\n",
       "    .dataframe tbody tr th {\n",
       "        vertical-align: top;\n",
       "    }\n",
       "\n",
       "    .dataframe thead th {\n",
       "        text-align: right;\n",
       "    }\n",
       "</style>\n",
       "<table border=\"1\" class=\"dataframe\">\n",
       "  <thead>\n",
       "    <tr style=\"text-align: right;\">\n",
       "      <th></th>\n",
       "      <th>时间</th>\n",
       "      <th>基站编号</th>\n",
       "      <th>小区编号</th>\n",
       "      <th>小区内的平均用户数</th>\n",
       "      <th>小区PDCP层所发送的下行数据的总吞吐量比特</th>\n",
       "      <th>小区PDCP层所接收到的上行数据的总吞吐量比特</th>\n",
       "      <th>平均激活用户数</th>\n",
       "    </tr>\n",
       "  </thead>\n",
       "  <tbody>\n",
       "    <tr>\n",
       "      <th>0</th>\n",
       "      <td>2021-08-28 00:00</td>\n",
       "      <td>1200071</td>\n",
       "      <td>26019014</td>\n",
       "      <td>22.6341</td>\n",
       "      <td>30825953056</td>\n",
       "      <td>1335290712</td>\n",
       "      <td>2.7893</td>\n",
       "    </tr>\n",
       "    <tr>\n",
       "      <th>1</th>\n",
       "      <td>2021-08-28 00:00</td>\n",
       "      <td>1200071</td>\n",
       "      <td>26019015</td>\n",
       "      <td>19.1064</td>\n",
       "      <td>14185653168</td>\n",
       "      <td>2829868592</td>\n",
       "      <td>3.9198</td>\n",
       "    </tr>\n",
       "    <tr>\n",
       "      <th>2</th>\n",
       "      <td>2021-08-28 00:00</td>\n",
       "      <td>1200071</td>\n",
       "      <td>26019016</td>\n",
       "      <td>15.4729</td>\n",
       "      <td>7767242120</td>\n",
       "      <td>1194709896</td>\n",
       "      <td>3.1944</td>\n",
       "    </tr>\n",
       "    <tr>\n",
       "      <th>3</th>\n",
       "      <td>2021-08-28 00:00</td>\n",
       "      <td>1200071</td>\n",
       "      <td>26019023</td>\n",
       "      <td>0.0509</td>\n",
       "      <td>137312</td>\n",
       "      <td>205800</td>\n",
       "      <td>0.0004</td>\n",
       "    </tr>\n",
       "    <tr>\n",
       "      <th>4</th>\n",
       "      <td>2021-08-28 00:00</td>\n",
       "      <td>1200071</td>\n",
       "      <td>26019024</td>\n",
       "      <td>0.6355</td>\n",
       "      <td>26593440</td>\n",
       "      <td>12935840</td>\n",
       "      <td>0.0263</td>\n",
       "    </tr>\n",
       "    <tr>\n",
       "      <th>...</th>\n",
       "      <td>...</td>\n",
       "      <td>...</td>\n",
       "      <td>...</td>\n",
       "      <td>...</td>\n",
       "      <td>...</td>\n",
       "      <td>...</td>\n",
       "      <td>...</td>\n",
       "    </tr>\n",
       "    <tr>\n",
       "      <th>40363</th>\n",
       "      <td>2021-09-25 23:00</td>\n",
       "      <td>1200075</td>\n",
       "      <td>26019033</td>\n",
       "      <td>7.0792</td>\n",
       "      <td>1064325632</td>\n",
       "      <td>371490528</td>\n",
       "      <td>0.2405</td>\n",
       "    </tr>\n",
       "    <tr>\n",
       "      <th>40364</th>\n",
       "      <td>2021-09-25 23:00</td>\n",
       "      <td>1200075</td>\n",
       "      <td>26019034</td>\n",
       "      <td>1.3647</td>\n",
       "      <td>1651173776</td>\n",
       "      <td>87614416</td>\n",
       "      <td>0.0864</td>\n",
       "    </tr>\n",
       "    <tr>\n",
       "      <th>40365</th>\n",
       "      <td>2021-09-25 23:00</td>\n",
       "      <td>1200075</td>\n",
       "      <td>26019035</td>\n",
       "      <td>2.4111</td>\n",
       "      <td>2215657728</td>\n",
       "      <td>219697536</td>\n",
       "      <td>0.2187</td>\n",
       "    </tr>\n",
       "    <tr>\n",
       "      <th>40366</th>\n",
       "      <td>2021-09-25 23:00</td>\n",
       "      <td>1200075</td>\n",
       "      <td>26019027</td>\n",
       "      <td>11.7958</td>\n",
       "      <td>22816769808</td>\n",
       "      <td>1506731744</td>\n",
       "      <td>1.6753</td>\n",
       "    </tr>\n",
       "    <tr>\n",
       "      <th>40367</th>\n",
       "      <td>2021-09-25 23:00</td>\n",
       "      <td>1200075</td>\n",
       "      <td>26019028</td>\n",
       "      <td>15.4725</td>\n",
       "      <td>12474813456</td>\n",
       "      <td>1764214216</td>\n",
       "      <td>1.7410</td>\n",
       "    </tr>\n",
       "  </tbody>\n",
       "</table>\n",
       "<p>40368 rows × 7 columns</p>\n",
       "</div>"
      ],
      "text/plain": [
       "                     时间     基站编号      小区编号  小区内的平均用户数  小区PDCP层所发送的下行数据的总吞吐量比特  \\\n",
       "0      2021-08-28 00:00  1200071  26019014    22.6341             30825953056   \n",
       "1      2021-08-28 00:00  1200071  26019015    19.1064             14185653168   \n",
       "2      2021-08-28 00:00  1200071  26019016    15.4729              7767242120   \n",
       "3      2021-08-28 00:00  1200071  26019023     0.0509                  137312   \n",
       "4      2021-08-28 00:00  1200071  26019024     0.6355                26593440   \n",
       "...                 ...      ...       ...        ...                     ...   \n",
       "40363  2021-09-25 23:00  1200075  26019033     7.0792              1064325632   \n",
       "40364  2021-09-25 23:00  1200075  26019034     1.3647              1651173776   \n",
       "40365  2021-09-25 23:00  1200075  26019035     2.4111              2215657728   \n",
       "40366  2021-09-25 23:00  1200075  26019027    11.7958             22816769808   \n",
       "40367  2021-09-25 23:00  1200075  26019028    15.4725             12474813456   \n",
       "\n",
       "       小区PDCP层所接收到的上行数据的总吞吐量比特  平均激活用户数  \n",
       "0                   1335290712   2.7893  \n",
       "1                   2829868592   3.9198  \n",
       "2                   1194709896   3.1944  \n",
       "3                       205800   0.0004  \n",
       "4                     12935840   0.0263  \n",
       "...                        ...      ...  \n",
       "40363                371490528   0.2405  \n",
       "40364                 87614416   0.0864  \n",
       "40365                219697536   0.2187  \n",
       "40366               1506731744   1.6753  \n",
       "40367               1764214216   1.7410  \n",
       "\n",
       "[40368 rows x 7 columns]"
      ]
     },
     "execution_count": 30,
     "metadata": {},
     "output_type": "execute_result"
    }
   ],
   "source": [
    "train"
   ]
  },
  {
   "cell_type": "code",
   "execution_count": 31,
   "metadata": {},
   "outputs": [
    {
     "data": {
      "text/html": [
       "<div>\n",
       "<style scoped>\n",
       "    .dataframe tbody tr th:only-of-type {\n",
       "        vertical-align: middle;\n",
       "    }\n",
       "\n",
       "    .dataframe tbody tr th {\n",
       "        vertical-align: top;\n",
       "    }\n",
       "\n",
       "    .dataframe thead th {\n",
       "        text-align: right;\n",
       "    }\n",
       "</style>\n",
       "<table border=\"1\" class=\"dataframe\">\n",
       "  <thead>\n",
       "    <tr style=\"text-align: right;\">\n",
       "      <th></th>\n",
       "      <th>时间</th>\n",
       "      <th>基站编号</th>\n",
       "      <th>小区编号</th>\n",
       "      <th>小区内的平均用户数</th>\n",
       "      <th>小区PDCP层所发送的下行数据的总吞吐量比特</th>\n",
       "      <th>小区PDCP层所接收到的上行数据的总吞吐量比特</th>\n",
       "      <th>平均激活用户数</th>\n",
       "      <th>小区的PDCP流量</th>\n",
       "    </tr>\n",
       "  </thead>\n",
       "  <tbody>\n",
       "    <tr>\n",
       "      <th>0</th>\n",
       "      <td>2021-08-28 00:00</td>\n",
       "      <td>1200071</td>\n",
       "      <td>26019014</td>\n",
       "      <td>22.6341</td>\n",
       "      <td>30825953056</td>\n",
       "      <td>1335290712</td>\n",
       "      <td>2.7893</td>\n",
       "      <td>32161243768</td>\n",
       "    </tr>\n",
       "    <tr>\n",
       "      <th>1</th>\n",
       "      <td>2021-08-28 00:00</td>\n",
       "      <td>1200071</td>\n",
       "      <td>26019015</td>\n",
       "      <td>19.1064</td>\n",
       "      <td>14185653168</td>\n",
       "      <td>2829868592</td>\n",
       "      <td>3.9198</td>\n",
       "      <td>17015521760</td>\n",
       "    </tr>\n",
       "    <tr>\n",
       "      <th>2</th>\n",
       "      <td>2021-08-28 00:00</td>\n",
       "      <td>1200071</td>\n",
       "      <td>26019016</td>\n",
       "      <td>15.4729</td>\n",
       "      <td>7767242120</td>\n",
       "      <td>1194709896</td>\n",
       "      <td>3.1944</td>\n",
       "      <td>8961952016</td>\n",
       "    </tr>\n",
       "    <tr>\n",
       "      <th>3</th>\n",
       "      <td>2021-08-28 00:00</td>\n",
       "      <td>1200071</td>\n",
       "      <td>26019023</td>\n",
       "      <td>0.0509</td>\n",
       "      <td>137312</td>\n",
       "      <td>205800</td>\n",
       "      <td>0.0004</td>\n",
       "      <td>343112</td>\n",
       "    </tr>\n",
       "    <tr>\n",
       "      <th>4</th>\n",
       "      <td>2021-08-28 00:00</td>\n",
       "      <td>1200071</td>\n",
       "      <td>26019024</td>\n",
       "      <td>0.6355</td>\n",
       "      <td>26593440</td>\n",
       "      <td>12935840</td>\n",
       "      <td>0.0263</td>\n",
       "      <td>39529280</td>\n",
       "    </tr>\n",
       "    <tr>\n",
       "      <th>...</th>\n",
       "      <td>...</td>\n",
       "      <td>...</td>\n",
       "      <td>...</td>\n",
       "      <td>...</td>\n",
       "      <td>...</td>\n",
       "      <td>...</td>\n",
       "      <td>...</td>\n",
       "      <td>...</td>\n",
       "    </tr>\n",
       "    <tr>\n",
       "      <th>40363</th>\n",
       "      <td>2021-09-25 23:00</td>\n",
       "      <td>1200075</td>\n",
       "      <td>26019033</td>\n",
       "      <td>7.0792</td>\n",
       "      <td>1064325632</td>\n",
       "      <td>371490528</td>\n",
       "      <td>0.2405</td>\n",
       "      <td>1435816160</td>\n",
       "    </tr>\n",
       "    <tr>\n",
       "      <th>40364</th>\n",
       "      <td>2021-09-25 23:00</td>\n",
       "      <td>1200075</td>\n",
       "      <td>26019034</td>\n",
       "      <td>1.3647</td>\n",
       "      <td>1651173776</td>\n",
       "      <td>87614416</td>\n",
       "      <td>0.0864</td>\n",
       "      <td>1738788192</td>\n",
       "    </tr>\n",
       "    <tr>\n",
       "      <th>40365</th>\n",
       "      <td>2021-09-25 23:00</td>\n",
       "      <td>1200075</td>\n",
       "      <td>26019035</td>\n",
       "      <td>2.4111</td>\n",
       "      <td>2215657728</td>\n",
       "      <td>219697536</td>\n",
       "      <td>0.2187</td>\n",
       "      <td>2435355264</td>\n",
       "    </tr>\n",
       "    <tr>\n",
       "      <th>40366</th>\n",
       "      <td>2021-09-25 23:00</td>\n",
       "      <td>1200075</td>\n",
       "      <td>26019027</td>\n",
       "      <td>11.7958</td>\n",
       "      <td>22816769808</td>\n",
       "      <td>1506731744</td>\n",
       "      <td>1.6753</td>\n",
       "      <td>24323501552</td>\n",
       "    </tr>\n",
       "    <tr>\n",
       "      <th>40367</th>\n",
       "      <td>2021-09-25 23:00</td>\n",
       "      <td>1200075</td>\n",
       "      <td>26019028</td>\n",
       "      <td>15.4725</td>\n",
       "      <td>12474813456</td>\n",
       "      <td>1764214216</td>\n",
       "      <td>1.7410</td>\n",
       "      <td>14239027672</td>\n",
       "    </tr>\n",
       "  </tbody>\n",
       "</table>\n",
       "<p>40368 rows × 8 columns</p>\n",
       "</div>"
      ],
      "text/plain": [
       "                     时间     基站编号      小区编号  小区内的平均用户数  小区PDCP层所发送的下行数据的总吞吐量比特  \\\n",
       "0      2021-08-28 00:00  1200071  26019014    22.6341             30825953056   \n",
       "1      2021-08-28 00:00  1200071  26019015    19.1064             14185653168   \n",
       "2      2021-08-28 00:00  1200071  26019016    15.4729              7767242120   \n",
       "3      2021-08-28 00:00  1200071  26019023     0.0509                  137312   \n",
       "4      2021-08-28 00:00  1200071  26019024     0.6355                26593440   \n",
       "...                 ...      ...       ...        ...                     ...   \n",
       "40363  2021-09-25 23:00  1200075  26019033     7.0792              1064325632   \n",
       "40364  2021-09-25 23:00  1200075  26019034     1.3647              1651173776   \n",
       "40365  2021-09-25 23:00  1200075  26019035     2.4111              2215657728   \n",
       "40366  2021-09-25 23:00  1200075  26019027    11.7958             22816769808   \n",
       "40367  2021-09-25 23:00  1200075  26019028    15.4725             12474813456   \n",
       "\n",
       "       小区PDCP层所接收到的上行数据的总吞吐量比特  平均激活用户数    小区的PDCP流量  \n",
       "0                   1335290712   2.7893  32161243768  \n",
       "1                   2829868592   3.9198  17015521760  \n",
       "2                   1194709896   3.1944   8961952016  \n",
       "3                       205800   0.0004       343112  \n",
       "4                     12935840   0.0263     39529280  \n",
       "...                        ...      ...          ...  \n",
       "40363                371490528   0.2405   1435816160  \n",
       "40364                 87614416   0.0864   1738788192  \n",
       "40365                219697536   0.2187   2435355264  \n",
       "40366               1506731744   1.6753  24323501552  \n",
       "40367               1764214216   1.7410  14239027672  \n",
       "\n",
       "[40368 rows x 8 columns]"
      ]
     },
     "execution_count": 31,
     "metadata": {},
     "output_type": "execute_result"
    }
   ],
   "source": [
    "train[\"小区的PDCP流量\"] = train[\"小区PDCP层所发送的下行数据的总吞吐量比特\"] + train[\"小区PDCP层所接收到的上行数据的总吞吐量比特\"]\n",
    "train"
   ]
  },
  {
   "cell_type": "code",
   "execution_count": 32,
   "metadata": {},
   "outputs": [
    {
     "data": {
      "text/html": [
       "<div>\n",
       "<style scoped>\n",
       "    .dataframe tbody tr th:only-of-type {\n",
       "        vertical-align: middle;\n",
       "    }\n",
       "\n",
       "    .dataframe tbody tr th {\n",
       "        vertical-align: top;\n",
       "    }\n",
       "\n",
       "    .dataframe thead th {\n",
       "        text-align: right;\n",
       "    }\n",
       "</style>\n",
       "<table border=\"1\" class=\"dataframe\">\n",
       "  <thead>\n",
       "    <tr style=\"text-align: right;\">\n",
       "      <th></th>\n",
       "      <th>时间</th>\n",
       "      <th>基站编号</th>\n",
       "      <th>小区编号</th>\n",
       "      <th>小区内的平均用户数</th>\n",
       "      <th>小区PDCP层所发送的下行数据的总吞吐量比特</th>\n",
       "      <th>小区PDCP层所接收到的上行数据的总吞吐量比特</th>\n",
       "      <th>平均激活用户数</th>\n",
       "      <th>小区的PDCP流量</th>\n",
       "      <th>time</th>\n",
       "    </tr>\n",
       "  </thead>\n",
       "  <tbody>\n",
       "    <tr>\n",
       "      <th>0</th>\n",
       "      <td>2021-08-28 00:00</td>\n",
       "      <td>1200071</td>\n",
       "      <td>26019014</td>\n",
       "      <td>22.6341</td>\n",
       "      <td>30825953056</td>\n",
       "      <td>1335290712</td>\n",
       "      <td>2.7893</td>\n",
       "      <td>32161243768</td>\n",
       "      <td>2021-08-28 00:00:00</td>\n",
       "    </tr>\n",
       "    <tr>\n",
       "      <th>1</th>\n",
       "      <td>2021-08-28 00:00</td>\n",
       "      <td>1200071</td>\n",
       "      <td>26019015</td>\n",
       "      <td>19.1064</td>\n",
       "      <td>14185653168</td>\n",
       "      <td>2829868592</td>\n",
       "      <td>3.9198</td>\n",
       "      <td>17015521760</td>\n",
       "      <td>2021-08-28 00:00:00</td>\n",
       "    </tr>\n",
       "    <tr>\n",
       "      <th>2</th>\n",
       "      <td>2021-08-28 00:00</td>\n",
       "      <td>1200071</td>\n",
       "      <td>26019016</td>\n",
       "      <td>15.4729</td>\n",
       "      <td>7767242120</td>\n",
       "      <td>1194709896</td>\n",
       "      <td>3.1944</td>\n",
       "      <td>8961952016</td>\n",
       "      <td>2021-08-28 00:00:00</td>\n",
       "    </tr>\n",
       "    <tr>\n",
       "      <th>3</th>\n",
       "      <td>2021-08-28 00:00</td>\n",
       "      <td>1200071</td>\n",
       "      <td>26019023</td>\n",
       "      <td>0.0509</td>\n",
       "      <td>137312</td>\n",
       "      <td>205800</td>\n",
       "      <td>0.0004</td>\n",
       "      <td>343112</td>\n",
       "      <td>2021-08-28 00:00:00</td>\n",
       "    </tr>\n",
       "    <tr>\n",
       "      <th>4</th>\n",
       "      <td>2021-08-28 00:00</td>\n",
       "      <td>1200071</td>\n",
       "      <td>26019024</td>\n",
       "      <td>0.6355</td>\n",
       "      <td>26593440</td>\n",
       "      <td>12935840</td>\n",
       "      <td>0.0263</td>\n",
       "      <td>39529280</td>\n",
       "      <td>2021-08-28 00:00:00</td>\n",
       "    </tr>\n",
       "    <tr>\n",
       "      <th>...</th>\n",
       "      <td>...</td>\n",
       "      <td>...</td>\n",
       "      <td>...</td>\n",
       "      <td>...</td>\n",
       "      <td>...</td>\n",
       "      <td>...</td>\n",
       "      <td>...</td>\n",
       "      <td>...</td>\n",
       "      <td>...</td>\n",
       "    </tr>\n",
       "    <tr>\n",
       "      <th>40363</th>\n",
       "      <td>2021-09-25 23:00</td>\n",
       "      <td>1200075</td>\n",
       "      <td>26019033</td>\n",
       "      <td>7.0792</td>\n",
       "      <td>1064325632</td>\n",
       "      <td>371490528</td>\n",
       "      <td>0.2405</td>\n",
       "      <td>1435816160</td>\n",
       "      <td>2021-09-25 23:00:00</td>\n",
       "    </tr>\n",
       "    <tr>\n",
       "      <th>40364</th>\n",
       "      <td>2021-09-25 23:00</td>\n",
       "      <td>1200075</td>\n",
       "      <td>26019034</td>\n",
       "      <td>1.3647</td>\n",
       "      <td>1651173776</td>\n",
       "      <td>87614416</td>\n",
       "      <td>0.0864</td>\n",
       "      <td>1738788192</td>\n",
       "      <td>2021-09-25 23:00:00</td>\n",
       "    </tr>\n",
       "    <tr>\n",
       "      <th>40365</th>\n",
       "      <td>2021-09-25 23:00</td>\n",
       "      <td>1200075</td>\n",
       "      <td>26019035</td>\n",
       "      <td>2.4111</td>\n",
       "      <td>2215657728</td>\n",
       "      <td>219697536</td>\n",
       "      <td>0.2187</td>\n",
       "      <td>2435355264</td>\n",
       "      <td>2021-09-25 23:00:00</td>\n",
       "    </tr>\n",
       "    <tr>\n",
       "      <th>40366</th>\n",
       "      <td>2021-09-25 23:00</td>\n",
       "      <td>1200075</td>\n",
       "      <td>26019027</td>\n",
       "      <td>11.7958</td>\n",
       "      <td>22816769808</td>\n",
       "      <td>1506731744</td>\n",
       "      <td>1.6753</td>\n",
       "      <td>24323501552</td>\n",
       "      <td>2021-09-25 23:00:00</td>\n",
       "    </tr>\n",
       "    <tr>\n",
       "      <th>40367</th>\n",
       "      <td>2021-09-25 23:00</td>\n",
       "      <td>1200075</td>\n",
       "      <td>26019028</td>\n",
       "      <td>15.4725</td>\n",
       "      <td>12474813456</td>\n",
       "      <td>1764214216</td>\n",
       "      <td>1.7410</td>\n",
       "      <td>14239027672</td>\n",
       "      <td>2021-09-25 23:00:00</td>\n",
       "    </tr>\n",
       "  </tbody>\n",
       "</table>\n",
       "<p>40368 rows × 9 columns</p>\n",
       "</div>"
      ],
      "text/plain": [
       "                     时间     基站编号      小区编号  小区内的平均用户数  小区PDCP层所发送的下行数据的总吞吐量比特  \\\n",
       "0      2021-08-28 00:00  1200071  26019014    22.6341             30825953056   \n",
       "1      2021-08-28 00:00  1200071  26019015    19.1064             14185653168   \n",
       "2      2021-08-28 00:00  1200071  26019016    15.4729              7767242120   \n",
       "3      2021-08-28 00:00  1200071  26019023     0.0509                  137312   \n",
       "4      2021-08-28 00:00  1200071  26019024     0.6355                26593440   \n",
       "...                 ...      ...       ...        ...                     ...   \n",
       "40363  2021-09-25 23:00  1200075  26019033     7.0792              1064325632   \n",
       "40364  2021-09-25 23:00  1200075  26019034     1.3647              1651173776   \n",
       "40365  2021-09-25 23:00  1200075  26019035     2.4111              2215657728   \n",
       "40366  2021-09-25 23:00  1200075  26019027    11.7958             22816769808   \n",
       "40367  2021-09-25 23:00  1200075  26019028    15.4725             12474813456   \n",
       "\n",
       "       小区PDCP层所接收到的上行数据的总吞吐量比特  平均激活用户数    小区的PDCP流量                time  \n",
       "0                   1335290712   2.7893  32161243768 2021-08-28 00:00:00  \n",
       "1                   2829868592   3.9198  17015521760 2021-08-28 00:00:00  \n",
       "2                   1194709896   3.1944   8961952016 2021-08-28 00:00:00  \n",
       "3                       205800   0.0004       343112 2021-08-28 00:00:00  \n",
       "4                     12935840   0.0263     39529280 2021-08-28 00:00:00  \n",
       "...                        ...      ...          ...                 ...  \n",
       "40363                371490528   0.2405   1435816160 2021-09-25 23:00:00  \n",
       "40364                 87614416   0.0864   1738788192 2021-09-25 23:00:00  \n",
       "40365                219697536   0.2187   2435355264 2021-09-25 23:00:00  \n",
       "40366               1506731744   1.6753  24323501552 2021-09-25 23:00:00  \n",
       "40367               1764214216   1.7410  14239027672 2021-09-25 23:00:00  \n",
       "\n",
       "[40368 rows x 9 columns]"
      ]
     },
     "execution_count": 32,
     "metadata": {},
     "output_type": "execute_result"
    }
   ],
   "source": [
    "train['time']=pd.to_datetime(train['时间'])\n",
    "train"
   ]
  },
  {
   "cell_type": "code",
   "execution_count": 102,
   "metadata": {},
   "outputs": [],
   "source": [
    "def get_time_window(series_data, period):\n",
    "    pre_data = series_data.values\n",
    "    x_train = np.zeros((len(pre_data)-period+1, period))\n",
    "    y_train = pre_data[period-1:]\n",
    "\n",
    "    for i in range(0,len(pre_data)-period+1):\n",
    "        x_train[i,:] = pre_data[i:i+8]\n",
    "\n",
    "    return x_train, y_train"
   ]
  },
  {
   "cell_type": "code",
   "execution_count": 117,
   "metadata": {},
   "outputs": [],
   "source": [
    "#SS算法\n",
    "def calculate_SS_condition(post_point, pre_point,threshold):\n",
    "    \n",
    "    if abs(post_point - pre_point) > threshold:\n",
    "        return 1\n",
    "    else:\n",
    "        return 0\n"
   ]
  },
  {
   "cell_type": "code",
   "execution_count": 118,
   "metadata": {},
   "outputs": [],
   "source": [
    "def get_dynamic_threhold(pre_time_lines):\n",
    "    return min(np.max(pre_time_lines) - np.average(pre_time_lines), np.average(pre_time_lines) - np.min(pre_time_lines))"
   ]
  },
  {
   "cell_type": "code",
   "execution_count": 122,
   "metadata": {},
   "outputs": [],
   "source": [
    "def SS(time_lines, count_threhold = 6):\n",
    "    outlines = []\n",
    "    for i in range(len(time_lines)):\n",
    "        count = 0\n",
    "        target_point = time_lines[i,-1]\n",
    "\n",
    "        threshold = get_dynamic_threhold(time_lines[i, :-1])\n",
    "        \n",
    "        for j in range(len(time_lines[0])- 1):\n",
    "            count += calculate_SS_condition(target_point, time_lines[i, j], threshold=threshold)\n",
    "\n",
    "        if count > count_threhold:\n",
    "            outlines.append(1)\n",
    "        else:\n",
    "            outlines.append(0)\n",
    "    return outlines"
   ]
  },
  {
   "cell_type": "code",
   "execution_count": 174,
   "metadata": {},
   "outputs": [],
   "source": [
    "#LS算法\n",
    "def LS(time_lines):\n",
    "    outpoints = []\n",
    "    for i in range(len(time_lines)):\n",
    "        line = time_lines[i, :-1]\n",
    "        check_point = time_lines[i, -1]\n",
    "        line_mean = np.mean(line)\n",
    "        \n",
    "        line_std = np.std(line)\n",
    "        if abs(check_point - line_mean) > (3 * line_std):\n",
    "            outpoints.append(1)\n",
    "        else:\n",
    "            outpoints.append(0)\n",
    "\n",
    "    return outpoints"
   ]
  },
  {
   "cell_type": "code",
   "execution_count": 107,
   "metadata": {},
   "outputs": [],
   "source": [
    "#chain同比算法\n",
    "def chain(time_lines, max_threshold, min_threshold):\n",
    "    outpoints = []\n",
    "    for i in range(len(time_lines)):\n",
    "        line = time_lines[i,:-1]\n",
    "        check_point = time_lines[i, -1]\n",
    "        period_max = np.max(line) * max_threshold\n",
    "        period_min = np.min(line) * min_threshold\n",
    "        if (check_point > period_max or check_point <period_min):\n",
    "            outpoints.append(1)\n",
    "\n",
    "        else:\n",
    "            outpoints.append(0)\n",
    "    return outpoints"
   ]
  },
  {
   "cell_type": "code",
   "execution_count": 108,
   "metadata": {},
   "outputs": [],
   "source": [
    "#CA同比振幅算法\n",
    "def CA(time_lines, threshold):\n",
    "    outpoints = []\n",
    "    for i in range(len(time_lines)):\n",
    "        line = time_lines[i,:]\n",
    "        #check_point = time_lines[i, -1]\n",
    "        amplitudes = []\n",
    "        for i in range(len(line)-1):\n",
    "            amp = abs((line[i+1] - line[i]) / line[i])\n",
    "            amplitudes.append(amp)\n",
    "        if amplitudes[-1] > max(amplitudes[:-1]) * threshold:\n",
    "            outpoints.append(1)\n",
    "        else:\n",
    "            outpoints.append(0)\n",
    "    return outpoints\n"
   ]
  },
  {
   "cell_type": "code",
   "execution_count": 175,
   "metadata": {},
   "outputs": [],
   "source": [
    "def my_AD_method(data_series, period, ss_count_thre, chain_max_thre, chain_min_thre, ca_amp_thre):\n",
    "    \n",
    "    #先从每个小区总时序中获得时间窗\n",
    "    x, y = get_time_window(data_series,period=period)\n",
    "    #计算SS\n",
    "    ss_out = SS(x, ss_count_thre)\n",
    "    #计算LS\n",
    "    ls_out = LS(x)\n",
    "    #计算chain\n",
    "    chain_out = chain(x,chain_max_thre,chain_min_thre)\n",
    "    #计算ca\n",
    "    ca_out = CA(x, ca_amp_thre)\n",
    "\n",
    "    ss_out = np.array(ss_out)\n",
    "    ls_out = np.array(ls_out)\n",
    "    chain_out = np.array(chain_out)\n",
    "    ca_out = np.array(ca_out)\n",
    "\n",
    "    oddity_index = np.zeros(len(ss_out))\n",
    "\n",
    "    last_out = ss_out + ls_out + chain_out + ca_out\n",
    "    \n",
    "    oddity_sum = sum(last_out >= 3)\n",
    "    oddity_index[last_out >= 3] = 1\n",
    "    \n",
    "    return oddity_sum, oddity_index"
   ]
  },
  {
   "cell_type": "code",
   "execution_count": 110,
   "metadata": {},
   "outputs": [
    {
     "data": {
      "text/plain": [
       "array([26019014, 26019015, 26019016, 26019023, 26019024, 26019010,\n",
       "       26019011, 26019012, 26019013, 26019057, 26019058, 26019009,\n",
       "       26019007, 26019008, 26019030, 26019031, 26019032, 26019004,\n",
       "       26019005, 26019006, 26019021, 26019022, 26019020, 26019025,\n",
       "       26019017, 26019018, 26019019, 26019043, 26019044, 26019040,\n",
       "       26019041, 26019042, 26019001, 26019002, 26019003, 26019037,\n",
       "       26019038, 26019039, 26019046, 26019047, 26019048, 26019054,\n",
       "       26019055, 26019056, 26019051, 26019052, 26019053, 26019036,\n",
       "       26019045, 26019049, 26019050, 26019029, 26019026, 26019033,\n",
       "       26019034, 26019035, 26019027, 26019028], dtype=int64)"
      ]
     },
     "execution_count": 110,
     "metadata": {},
     "output_type": "execute_result"
    }
   ],
   "source": [
    "community_id = train[\"小区编号\"].unique()\n",
    "community_id"
   ]
  },
  {
   "cell_type": "code",
   "execution_count": 111,
   "metadata": {},
   "outputs": [
    {
     "data": {
      "text/plain": [
       "58"
      ]
     },
     "execution_count": 111,
     "metadata": {},
     "output_type": "execute_result"
    }
   ],
   "source": [
    "len(community_id)"
   ]
  },
  {
   "cell_type": "code",
   "execution_count": 269,
   "metadata": {},
   "outputs": [],
   "source": [
    "#求所有小区的异常点\n",
    "#先建立所有小区输出结果的存储空间：\n",
    "\n",
    "ad_col = \"小区的PDCP流量\"  #需要异常检测(Anomaly detection)的指标\n",
    "target_length = len(train[train[\"小区编号\"] == 26019014][ad_col])  #取第一个小区计算指标的总时间序列长度\n",
    "period = 8 #分割时间窗的长度（用于计算的时间序列的长度）\n",
    "\n",
    "mean_users_oddity_sum = []   #保存每个小区异常点的总数\n",
    "mean_users_oddity_index = np.zeros((len(community_id), (target_length-period+1))) #保存每个小区异常点的索引（相对索引，相对于每个小区而言）\n",
    "\n",
    "for i in range(len(community_id)):\n",
    "    data_series = train[train[\"小区编号\"] == community_id[i]][ad_col] #注意跑别的指标的时候，检查此处是否修改\n",
    "    odd_sum, oddity_index = my_AD_method(data_series=data_series, period=8, ss_count_thre=6, chain_max_thre=3, chain_min_thre=0.33, ca_amp_thre=3)\n",
    "        \n",
    "    mean_users_oddity_sum.append(odd_sum)\n",
    "    mean_users_oddity_index[i,:] = oddity_index"
   ]
  },
  {
   "cell_type": "code",
   "execution_count": 270,
   "metadata": {},
   "outputs": [
    {
     "data": {
      "text/plain": [
       "1204"
      ]
     },
     "execution_count": 270,
     "metadata": {},
     "output_type": "execute_result"
    }
   ],
   "source": [
    "sum(mean_users_oddity_sum)"
   ]
  },
  {
   "cell_type": "code",
   "execution_count": 181,
   "metadata": {},
   "outputs": [
    {
     "data": {
      "text/plain": [
       "23"
      ]
     },
     "execution_count": 181,
     "metadata": {},
     "output_type": "execute_result"
    }
   ],
   "source": [
    "sum(np.sum(mean_users_oddity_index,0)>10)"
   ]
  },
  {
   "cell_type": "code",
   "execution_count": 190,
   "metadata": {},
   "outputs": [
    {
     "data": {
      "text/plain": [
       "array([1200071, 1200072, 1200074, 1200073, 1200075], dtype=int64)"
      ]
     },
     "execution_count": 190,
     "metadata": {},
     "output_type": "execute_result"
    }
   ],
   "source": [
    "station_id = train[\"基站编号\"].unique()\n",
    "station_id"
   ]
  },
  {
   "cell_type": "code",
   "execution_count": 212,
   "metadata": {},
   "outputs": [
    {
     "data": {
      "text/plain": [
       "array([26019001, 26019002, 26019003, 26019037, 26019038, 26019039,\n",
       "       26019046, 26019047, 26019048, 26019054, 26019055, 26019056,\n",
       "       26019051, 26019052, 26019053, 26019036, 26019045], dtype=int64)"
      ]
     },
     "execution_count": 212,
     "metadata": {},
     "output_type": "execute_result"
    }
   ],
   "source": [
    "train[train[\"基站编号\"] == station_id[0]][\"小区编号\"].unique()"
   ]
  },
  {
   "cell_type": "code",
   "execution_count": 279,
   "metadata": {},
   "outputs": [
    {
     "data": {
      "text/plain": [
       "1"
      ]
     },
     "execution_count": 279,
     "metadata": {},
     "output_type": "execute_result"
    }
   ],
   "source": [
    "check_now = np.sum(mean_users_oddity_index[49:], 0)\n",
    "sum(check_now>4)"
   ]
  },
  {
   "cell_type": "code",
   "execution_count": 275,
   "metadata": {},
   "outputs": [
    {
     "data": {
      "text/plain": [
       "1204.0"
      ]
     },
     "execution_count": 275,
     "metadata": {},
     "output_type": "execute_result"
    }
   ],
   "source": [
    "last_sum = mean_users_oddity_sum.copy()\n",
    "last_p = mean_users_oddity_index.copy()\n",
    "np.sum(last_p)"
   ]
  },
  {
   "cell_type": "code",
   "execution_count": 280,
   "metadata": {},
   "outputs": [
    {
     "data": {
      "text/plain": [
       "1185.0"
      ]
     },
     "execution_count": 280,
     "metadata": {},
     "output_type": "execute_result"
    }
   ],
   "source": [
    "for row in last_p[49:]:\n",
    "    row[check_now>4] = 0\n",
    "np.sum(last_p)"
   ]
  },
  {
   "cell_type": "code",
   "execution_count": 230,
   "metadata": {},
   "outputs": [],
   "source": [
    "def get_lastout_window(series_data, period):\n",
    "    pre_data = series_data\n",
    "    x_train = np.zeros((len(pre_data)-period+1, period))\n",
    "    y_train = pre_data[period-1:]\n",
    "\n",
    "    for i in range(0,len(pre_data)-period+1):\n",
    "        x_train[i,:] = pre_data[i:i+8]\n",
    "\n",
    "    return x_train, y_train"
   ]
  },
  {
   "cell_type": "code",
   "execution_count": 245,
   "metadata": {},
   "outputs": [
    {
     "data": {
      "text/plain": [
       "998.0"
      ]
     },
     "execution_count": 245,
     "metadata": {},
     "output_type": "execute_result"
    }
   ],
   "source": [
    "np.sum(last_p)"
   ]
  },
  {
   "cell_type": "code",
   "execution_count": 281,
   "metadata": {},
   "outputs": [],
   "source": [
    "np.savetxt(r\"../data/target3_label.txt\",last_p)"
   ]
  },
  {
   "cell_type": "code",
   "execution_count": null,
   "metadata": {},
   "outputs": [],
   "source": []
  },
  {
   "cell_type": "code",
   "execution_count": 284,
   "metadata": {},
   "outputs": [
    {
     "data": {
      "text/plain": [
       "182"
      ]
     },
     "execution_count": 284,
     "metadata": {},
     "output_type": "execute_result"
    }
   ],
   "source": [
    "ad_cycle = 0\n",
    "for line in last_p:\n",
    "    op, po = get_lastout_window(line, 8)\n",
    "    ad_cycle += sum(np.sum(op,1)>2)\n",
    "\n",
    "ad_cycle\n",
    "    "
   ]
  },
  {
   "cell_type": "code",
   "execution_count": 239,
   "metadata": {},
   "outputs": [
    {
     "data": {
      "text/plain": [
       "0"
      ]
     },
     "execution_count": 239,
     "metadata": {},
     "output_type": "execute_result"
    }
   ],
   "source": [
    "sum(np.sum(op,1)>1)"
   ]
  },
  {
   "cell_type": "code",
   "execution_count": 186,
   "metadata": {},
   "outputs": [
    {
     "data": {
      "text/plain": [
       "基站编号\n",
       "1200071    [26019014, 26019015, 26019016, 26019023, 26019...\n",
       "1200072    [26019007, 26019008, 26019030, 26019031, 26019...\n",
       "1200073    [26019001, 26019002, 26019003, 26019037, 26019...\n",
       "1200074    [26019017, 26019018, 26019019, 26019043, 26019...\n",
       "1200075    [26019049, 26019050, 26019029, 26019026, 26019...\n",
       "Name: 小区编号, dtype: object"
      ]
     },
     "execution_count": 186,
     "metadata": {},
     "output_type": "execute_result"
    }
   ],
   "source": [
    "train.groupby(\"基站编号\")[\"小区编号\"].unique()"
   ]
  },
  {
   "cell_type": "markdown",
   "metadata": {},
   "source": []
  }
 ],
 "metadata": {
  "kernelspec": {
   "display_name": "MDandNLP",
   "language": "python",
   "name": "mdandnlp"
  },
  "orig_nbformat": 4
 },
 "nbformat": 4,
 "nbformat_minor": 2
}
