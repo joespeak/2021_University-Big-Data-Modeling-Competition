{
 "cells": [
  {
   "cell_type": "code",
   "execution_count": 1,
   "metadata": {},
   "outputs": [],
   "source": [
    "import pmdarima as pm\n",
    "import matplotlib.pyplot as pyplot\n",
    "import pyramid"
   ]
  },
  {
   "cell_type": "code",
   "execution_count": 2,
   "metadata": {},
   "outputs": [],
   "source": [
    "import numpy as np\n",
    "import pandas as pd\n",
    "import matplotlib.pyplot as plt\n",
    "import seaborn as sns\n",
    "import math\n",
    "from  datetime import datetime\n",
    "from sklearn.preprocessing import LabelEncoder\n",
    "import warnings\n",
    "warnings.filterwarnings('ignore')\n"
   ]
  },
  {
   "cell_type": "code",
   "execution_count": 3,
   "metadata": {},
   "outputs": [],
   "source": [
    "pd.set_option('display.max_columns',None)\n",
    "pd.set_option('display.max_rows',150)"
   ]
  },
  {
   "cell_type": "code",
   "execution_count": 4,
   "metadata": {},
   "outputs": [],
   "source": [
    "train_data = pd.read_excel(r\"../data/A_data.xlsx\")\n",
    "test_data = pd.read_excel(r\"../data/submit.xlsx\")"
   ]
  },
  {
   "cell_type": "code",
   "execution_count": 5,
   "metadata": {},
   "outputs": [
    {
     "data": {
      "text/plain": [
       "array([26019014, 26019015, 26019016, 26019023, 26019024, 26019010,\n",
       "       26019011, 26019012, 26019013, 26019057, 26019058, 26019009,\n",
       "       26019007, 26019008, 26019030, 26019031, 26019032, 26019004,\n",
       "       26019005, 26019006, 26019021, 26019022, 26019020, 26019025,\n",
       "       26019017, 26019018, 26019019, 26019043, 26019044, 26019040,\n",
       "       26019041, 26019042, 26019001, 26019002, 26019003, 26019037,\n",
       "       26019038, 26019039, 26019046, 26019047, 26019048, 26019054,\n",
       "       26019055, 26019056, 26019051, 26019052, 26019053, 26019036,\n",
       "       26019045, 26019049, 26019050, 26019029, 26019026, 26019033,\n",
       "       26019034, 26019035, 26019027, 26019028], dtype=int64)"
      ]
     },
     "execution_count": 5,
     "metadata": {},
     "output_type": "execute_result"
    }
   ],
   "source": [
    "train_data[\"小区编号\"].unique()"
   ]
  },
  {
   "cell_type": "code",
   "execution_count": 6,
   "metadata": {},
   "outputs": [],
   "source": [
    "used_cols = [\"时间\",\"基站编号\",\"小区编号\",\"小区内的平均用户数\",\"小区PDCP层所发送的下行数据的总吞吐量比特\",\n",
    "\"小区PDCP层所接收到的上行数据的总吞吐量比特\",\"平均激活用户数\"]"
   ]
  },
  {
   "cell_type": "code",
   "execution_count": 7,
   "metadata": {},
   "outputs": [],
   "source": [
    "train = train_data[used_cols]"
   ]
  },
  {
   "cell_type": "code",
   "execution_count": 8,
   "metadata": {},
   "outputs": [],
   "source": [
    "import fancyimpute\n",
    "from fancyimpute import KNN, NuclearNormMinimization, SoftImpute, IterativeImputer, BiScaler"
   ]
  },
  {
   "cell_type": "code",
   "execution_count": 11,
   "metadata": {},
   "outputs": [],
   "source": [
    "now_target_col = \"小区内的平均用户数\""
   ]
  },
  {
   "cell_type": "code",
   "execution_count": 12,
   "metadata": {},
   "outputs": [
    {
     "name": "stdout",
     "output_type": "stream",
     "text": [
      "Imputing row 1/1 with 0 missing, elapsed time: 0.017\n"
     ]
    },
    {
     "name": "stderr",
     "output_type": "stream",
     "text": [
      "D:\\Anaconda\\envs\\MDandNLP\\lib\\site-packages\\fancyimpute\\solver.py:55: UserWarning: Input matrix is not missing any values\n",
      "  warnings.warn(\"Input matrix is not missing any values\")\n"
     ]
    }
   ],
   "source": [
    "X_filled_knn = KNN(k=3).fit_transform(train_data[\"小区内的平均用户数\"].values.reshape(1,-1))"
   ]
  },
  {
   "cell_type": "code",
   "execution_count": 13,
   "metadata": {},
   "outputs": [
    {
     "data": {
      "text/plain": [
       "(1, 40368)"
      ]
     },
     "execution_count": 13,
     "metadata": {},
     "output_type": "execute_result"
    }
   ],
   "source": [
    "X_filled_knn.shape"
   ]
  },
  {
   "cell_type": "code",
   "execution_count": 14,
   "metadata": {},
   "outputs": [],
   "source": [
    "mean_user_anomaly = np.loadtxt(r\"../data/target1_label.txt\")"
   ]
  },
  {
   "cell_type": "code",
   "execution_count": 15,
   "metadata": {},
   "outputs": [],
   "source": [
    "community_id = train[\"小区编号\"].unique()"
   ]
  },
  {
   "cell_type": "code",
   "execution_count": 16,
   "metadata": {},
   "outputs": [],
   "source": [
    "def change_anomaly_point(train_df, target_col,ad_label):\n",
    "    out_arr = np.zeros((58, 696))\n",
    "    for i in range(len(community_id)):\n",
    "        data_series = train[train[\"小区编号\"] == community_id[i]][target_col].values\n",
    "        X_filled_knn = KNN(k=3).fit_transform(data_series.reshape(1,-1))[0]\n",
    "        data_series[7:][[ad_label[i] == 1]] = X_filled_knn[7:][[ad_label[i] == 1]]\n",
    "        out_arr[i] = data_series\n",
    "    return out_arr"
   ]
  },
  {
   "cell_type": "code",
   "execution_count": 17,
   "metadata": {},
   "outputs": [
    {
     "data": {
      "text/plain": [
       "Index(['时间', '基站编号', '小区编号', '本地小区标识', '小区内的平均用户数', '小区PDCP层所发送的下行数据的总吞吐量比特',\n",
       "       '小区PDCP层所接收到的上行数据的总吞吐量比特', '平均激活用户数'],\n",
       "      dtype='object')"
      ]
     },
     "execution_count": 17,
     "metadata": {},
     "output_type": "execute_result"
    }
   ],
   "source": [
    "test_data.columns"
   ]
  },
  {
   "cell_type": "code",
   "execution_count": 18,
   "metadata": {},
   "outputs": [
    {
     "name": "stdout",
     "output_type": "stream",
     "text": [
      "Imputing row 1/1 with 0 missing, elapsed time: 0.001\n",
      "Imputing row 1/1 with 0 missing, elapsed time: 0.000\n",
      "Imputing row 1/1 with 0 missing, elapsed time: 0.000\n",
      "Imputing row 1/1 with 0 missing, elapsed time: 0.000\n",
      "Imputing row 1/1 with 0 missing, elapsed time: 0.001\n",
      "Imputing row 1/1 with 0 missing, elapsed time: 0.001\n",
      "Imputing row 1/1 with 0 missing, elapsed time: 0.001\n",
      "Imputing row 1/1 with 0 missing, elapsed time: 0.001\n",
      "Imputing row 1/1 with 0 missing, elapsed time: 0.001\n",
      "Imputing row 1/1 with 0 missing, elapsed time: 0.001\n",
      "Imputing row 1/1 with 0 missing, elapsed time: 0.000\n",
      "Imputing row 1/1 with 0 missing, elapsed time: 0.000\n",
      "Imputing row 1/1 with 0 missing, elapsed time: 0.001\n",
      "Imputing row 1/1 with 0 missing, elapsed time: 0.001\n",
      "Imputing row 1/1 with 0 missing, elapsed time: 0.001\n",
      "Imputing row 1/1 with 0 missing, elapsed time: 0.000\n",
      "Imputing row 1/1 with 0 missing, elapsed time: 0.001\n",
      "Imputing row 1/1 with 0 missing, elapsed time: 0.000\n",
      "Imputing row 1/1 with 0 missing, elapsed time: 0.001\n",
      "Imputing row 1/1 with 0 missing, elapsed time: 0.001\n",
      "Imputing row 1/1 with 0 missing, elapsed time: 0.001\n",
      "Imputing row 1/1 with 0 missing, elapsed time: 0.001\n",
      "Imputing row 1/1 with 0 missing, elapsed time: 0.001\n",
      "Imputing row 1/1 with 0 missing, elapsed time: 0.001\n",
      "Imputing row 1/1 with 0 missing, elapsed time: 0.000\n",
      "Imputing row 1/1 with 0 missing, elapsed time: 0.000\n",
      "Imputing row 1/1 with 0 missing, elapsed time: 0.001\n",
      "Imputing row 1/1 with 0 missing, elapsed time: 0.001\n",
      "Imputing row 1/1 with 0 missing, elapsed time: 0.000\n",
      "Imputing row 1/1 with 0 missing, elapsed time: 0.000\n",
      "Imputing row 1/1 with 0 missing, elapsed time: 0.001\n",
      "Imputing row 1/1 with 0 missing, elapsed time: 0.000\n",
      "Imputing row 1/1 with 0 missing, elapsed time: 0.000\n",
      "Imputing row 1/1 with 0 missing, elapsed time: 0.000\n",
      "Imputing row 1/1 with 0 missing, elapsed time: 0.001\n",
      "Imputing row 1/1 with 0 missing, elapsed time: 0.000\n",
      "Imputing row 1/1 with 0 missing, elapsed time: 0.000\n",
      "Imputing row 1/1 with 0 missing, elapsed time: 0.000\n",
      "Imputing row 1/1 with 0 missing, elapsed time: 0.000\n",
      "Imputing row 1/1 with 0 missing, elapsed time: 0.000\n",
      "Imputing row 1/1 with 0 missing, elapsed time: 0.001\n",
      "Imputing row 1/1 with 0 missing, elapsed time: 0.000\n",
      "Imputing row 1/1 with 0 missing, elapsed time: 0.001\n",
      "Imputing row 1/1 with 0 missing, elapsed time: 0.001\n",
      "Imputing row 1/1 with 0 missing, elapsed time: 0.000\n",
      "Imputing row 1/1 with 0 missing, elapsed time: 0.000\n",
      "Imputing row 1/1 with 0 missing, elapsed time: 0.000\n",
      "Imputing row 1/1 with 0 missing, elapsed time: 0.000\n",
      "Imputing row 1/1 with 0 missing, elapsed time: 0.000\n",
      "Imputing row 1/1 with 0 missing, elapsed time: 0.000\n",
      "Imputing row 1/1 with 0 missing, elapsed time: 0.000\n",
      "Imputing row 1/1 with 0 missing, elapsed time: 0.000\n",
      "Imputing row 1/1 with 0 missing, elapsed time: 0.000\n",
      "Imputing row 1/1 with 0 missing, elapsed time: 0.000\n",
      "Imputing row 1/1 with 0 missing, elapsed time: 0.000\n",
      "Imputing row 1/1 with 0 missing, elapsed time: 0.000\n",
      "Imputing row 1/1 with 0 missing, elapsed time: 0.001\n",
      "Imputing row 1/1 with 0 missing, elapsed time: 0.001\n"
     ]
    },
    {
     "name": "stderr",
     "output_type": "stream",
     "text": [
      "D:\\Anaconda\\envs\\MDandNLP\\lib\\site-packages\\fancyimpute\\solver.py:55: UserWarning: Input matrix is not missing any values\n",
      "  warnings.warn(\"Input matrix is not missing any values\")\n",
      "C:\\Users\\Daran\\AppData\\Local\\Temp/ipykernel_24548/3817280434.py:6: FutureWarning: Using a non-tuple sequence for multidimensional indexing is deprecated; use `arr[tuple(seq)]` instead of `arr[seq]`. In the future this will be interpreted as an array index, `arr[np.array(seq)]`, which will result either in an error or a different result.\n",
      "  data_series[7:][[ad_label[i] == 1]] = X_filled_knn[7:][[ad_label[i] == 1]]\n",
      "C:\\Users\\Daran\\AppData\\Local\\Temp/ipykernel_24548/3817280434.py:6: FutureWarning: Using a non-tuple sequence for multidimensional indexing is deprecated; use `arr[tuple(seq)]` instead of `arr[seq]`. In the future this will be interpreted as an array index, `arr[np.array(seq)]`, which will result either in an error or a different result.\n",
      "  data_series[7:][[ad_label[i] == 1]] = X_filled_knn[7:][[ad_label[i] == 1]]\n",
      "D:\\Anaconda\\envs\\MDandNLP\\lib\\site-packages\\fancyimpute\\solver.py:55: UserWarning: Input matrix is not missing any values\n",
      "  warnings.warn(\"Input matrix is not missing any values\")\n",
      "C:\\Users\\Daran\\AppData\\Local\\Temp/ipykernel_24548/3817280434.py:6: FutureWarning: Using a non-tuple sequence for multidimensional indexing is deprecated; use `arr[tuple(seq)]` instead of `arr[seq]`. In the future this will be interpreted as an array index, `arr[np.array(seq)]`, which will result either in an error or a different result.\n",
      "  data_series[7:][[ad_label[i] == 1]] = X_filled_knn[7:][[ad_label[i] == 1]]\n",
      "C:\\Users\\Daran\\AppData\\Local\\Temp/ipykernel_24548/3817280434.py:6: FutureWarning: Using a non-tuple sequence for multidimensional indexing is deprecated; use `arr[tuple(seq)]` instead of `arr[seq]`. In the future this will be interpreted as an array index, `arr[np.array(seq)]`, which will result either in an error or a different result.\n",
      "  data_series[7:][[ad_label[i] == 1]] = X_filled_knn[7:][[ad_label[i] == 1]]\n",
      "D:\\Anaconda\\envs\\MDandNLP\\lib\\site-packages\\fancyimpute\\solver.py:55: UserWarning: Input matrix is not missing any values\n",
      "  warnings.warn(\"Input matrix is not missing any values\")\n",
      "C:\\Users\\Daran\\AppData\\Local\\Temp/ipykernel_24548/3817280434.py:6: FutureWarning: Using a non-tuple sequence for multidimensional indexing is deprecated; use `arr[tuple(seq)]` instead of `arr[seq]`. In the future this will be interpreted as an array index, `arr[np.array(seq)]`, which will result either in an error or a different result.\n",
      "  data_series[7:][[ad_label[i] == 1]] = X_filled_knn[7:][[ad_label[i] == 1]]\n",
      "C:\\Users\\Daran\\AppData\\Local\\Temp/ipykernel_24548/3817280434.py:6: FutureWarning: Using a non-tuple sequence for multidimensional indexing is deprecated; use `arr[tuple(seq)]` instead of `arr[seq]`. In the future this will be interpreted as an array index, `arr[np.array(seq)]`, which will result either in an error or a different result.\n",
      "  data_series[7:][[ad_label[i] == 1]] = X_filled_knn[7:][[ad_label[i] == 1]]\n",
      "D:\\Anaconda\\envs\\MDandNLP\\lib\\site-packages\\fancyimpute\\solver.py:55: UserWarning: Input matrix is not missing any values\n",
      "  warnings.warn(\"Input matrix is not missing any values\")\n",
      "C:\\Users\\Daran\\AppData\\Local\\Temp/ipykernel_24548/3817280434.py:6: FutureWarning: Using a non-tuple sequence for multidimensional indexing is deprecated; use `arr[tuple(seq)]` instead of `arr[seq]`. In the future this will be interpreted as an array index, `arr[np.array(seq)]`, which will result either in an error or a different result.\n",
      "  data_series[7:][[ad_label[i] == 1]] = X_filled_knn[7:][[ad_label[i] == 1]]\n",
      "C:\\Users\\Daran\\AppData\\Local\\Temp/ipykernel_24548/3817280434.py:6: FutureWarning: Using a non-tuple sequence for multidimensional indexing is deprecated; use `arr[tuple(seq)]` instead of `arr[seq]`. In the future this will be interpreted as an array index, `arr[np.array(seq)]`, which will result either in an error or a different result.\n",
      "  data_series[7:][[ad_label[i] == 1]] = X_filled_knn[7:][[ad_label[i] == 1]]\n",
      "D:\\Anaconda\\envs\\MDandNLP\\lib\\site-packages\\fancyimpute\\solver.py:55: UserWarning: Input matrix is not missing any values\n",
      "  warnings.warn(\"Input matrix is not missing any values\")\n",
      "C:\\Users\\Daran\\AppData\\Local\\Temp/ipykernel_24548/3817280434.py:6: FutureWarning: Using a non-tuple sequence for multidimensional indexing is deprecated; use `arr[tuple(seq)]` instead of `arr[seq]`. In the future this will be interpreted as an array index, `arr[np.array(seq)]`, which will result either in an error or a different result.\n",
      "  data_series[7:][[ad_label[i] == 1]] = X_filled_knn[7:][[ad_label[i] == 1]]\n",
      "C:\\Users\\Daran\\AppData\\Local\\Temp/ipykernel_24548/3817280434.py:6: FutureWarning: Using a non-tuple sequence for multidimensional indexing is deprecated; use `arr[tuple(seq)]` instead of `arr[seq]`. In the future this will be interpreted as an array index, `arr[np.array(seq)]`, which will result either in an error or a different result.\n",
      "  data_series[7:][[ad_label[i] == 1]] = X_filled_knn[7:][[ad_label[i] == 1]]\n",
      "D:\\Anaconda\\envs\\MDandNLP\\lib\\site-packages\\fancyimpute\\solver.py:55: UserWarning: Input matrix is not missing any values\n",
      "  warnings.warn(\"Input matrix is not missing any values\")\n",
      "C:\\Users\\Daran\\AppData\\Local\\Temp/ipykernel_24548/3817280434.py:6: FutureWarning: Using a non-tuple sequence for multidimensional indexing is deprecated; use `arr[tuple(seq)]` instead of `arr[seq]`. In the future this will be interpreted as an array index, `arr[np.array(seq)]`, which will result either in an error or a different result.\n",
      "  data_series[7:][[ad_label[i] == 1]] = X_filled_knn[7:][[ad_label[i] == 1]]\n",
      "C:\\Users\\Daran\\AppData\\Local\\Temp/ipykernel_24548/3817280434.py:6: FutureWarning: Using a non-tuple sequence for multidimensional indexing is deprecated; use `arr[tuple(seq)]` instead of `arr[seq]`. In the future this will be interpreted as an array index, `arr[np.array(seq)]`, which will result either in an error or a different result.\n",
      "  data_series[7:][[ad_label[i] == 1]] = X_filled_knn[7:][[ad_label[i] == 1]]\n",
      "D:\\Anaconda\\envs\\MDandNLP\\lib\\site-packages\\fancyimpute\\solver.py:55: UserWarning: Input matrix is not missing any values\n",
      "  warnings.warn(\"Input matrix is not missing any values\")\n",
      "C:\\Users\\Daran\\AppData\\Local\\Temp/ipykernel_24548/3817280434.py:6: FutureWarning: Using a non-tuple sequence for multidimensional indexing is deprecated; use `arr[tuple(seq)]` instead of `arr[seq]`. In the future this will be interpreted as an array index, `arr[np.array(seq)]`, which will result either in an error or a different result.\n",
      "  data_series[7:][[ad_label[i] == 1]] = X_filled_knn[7:][[ad_label[i] == 1]]\n",
      "C:\\Users\\Daran\\AppData\\Local\\Temp/ipykernel_24548/3817280434.py:6: FutureWarning: Using a non-tuple sequence for multidimensional indexing is deprecated; use `arr[tuple(seq)]` instead of `arr[seq]`. In the future this will be interpreted as an array index, `arr[np.array(seq)]`, which will result either in an error or a different result.\n",
      "  data_series[7:][[ad_label[i] == 1]] = X_filled_knn[7:][[ad_label[i] == 1]]\n",
      "D:\\Anaconda\\envs\\MDandNLP\\lib\\site-packages\\fancyimpute\\solver.py:55: UserWarning: Input matrix is not missing any values\n",
      "  warnings.warn(\"Input matrix is not missing any values\")\n",
      "C:\\Users\\Daran\\AppData\\Local\\Temp/ipykernel_24548/3817280434.py:6: FutureWarning: Using a non-tuple sequence for multidimensional indexing is deprecated; use `arr[tuple(seq)]` instead of `arr[seq]`. In the future this will be interpreted as an array index, `arr[np.array(seq)]`, which will result either in an error or a different result.\n",
      "  data_series[7:][[ad_label[i] == 1]] = X_filled_knn[7:][[ad_label[i] == 1]]\n",
      "C:\\Users\\Daran\\AppData\\Local\\Temp/ipykernel_24548/3817280434.py:6: FutureWarning: Using a non-tuple sequence for multidimensional indexing is deprecated; use `arr[tuple(seq)]` instead of `arr[seq]`. In the future this will be interpreted as an array index, `arr[np.array(seq)]`, which will result either in an error or a different result.\n",
      "  data_series[7:][[ad_label[i] == 1]] = X_filled_knn[7:][[ad_label[i] == 1]]\n",
      "D:\\Anaconda\\envs\\MDandNLP\\lib\\site-packages\\fancyimpute\\solver.py:55: UserWarning: Input matrix is not missing any values\n",
      "  warnings.warn(\"Input matrix is not missing any values\")\n",
      "C:\\Users\\Daran\\AppData\\Local\\Temp/ipykernel_24548/3817280434.py:6: FutureWarning: Using a non-tuple sequence for multidimensional indexing is deprecated; use `arr[tuple(seq)]` instead of `arr[seq]`. In the future this will be interpreted as an array index, `arr[np.array(seq)]`, which will result either in an error or a different result.\n",
      "  data_series[7:][[ad_label[i] == 1]] = X_filled_knn[7:][[ad_label[i] == 1]]\n",
      "C:\\Users\\Daran\\AppData\\Local\\Temp/ipykernel_24548/3817280434.py:6: FutureWarning: Using a non-tuple sequence for multidimensional indexing is deprecated; use `arr[tuple(seq)]` instead of `arr[seq]`. In the future this will be interpreted as an array index, `arr[np.array(seq)]`, which will result either in an error or a different result.\n",
      "  data_series[7:][[ad_label[i] == 1]] = X_filled_knn[7:][[ad_label[i] == 1]]\n",
      "D:\\Anaconda\\envs\\MDandNLP\\lib\\site-packages\\fancyimpute\\solver.py:55: UserWarning: Input matrix is not missing any values\n",
      "  warnings.warn(\"Input matrix is not missing any values\")\n",
      "C:\\Users\\Daran\\AppData\\Local\\Temp/ipykernel_24548/3817280434.py:6: FutureWarning: Using a non-tuple sequence for multidimensional indexing is deprecated; use `arr[tuple(seq)]` instead of `arr[seq]`. In the future this will be interpreted as an array index, `arr[np.array(seq)]`, which will result either in an error or a different result.\n",
      "  data_series[7:][[ad_label[i] == 1]] = X_filled_knn[7:][[ad_label[i] == 1]]\n",
      "C:\\Users\\Daran\\AppData\\Local\\Temp/ipykernel_24548/3817280434.py:6: FutureWarning: Using a non-tuple sequence for multidimensional indexing is deprecated; use `arr[tuple(seq)]` instead of `arr[seq]`. In the future this will be interpreted as an array index, `arr[np.array(seq)]`, which will result either in an error or a different result.\n",
      "  data_series[7:][[ad_label[i] == 1]] = X_filled_knn[7:][[ad_label[i] == 1]]\n",
      "D:\\Anaconda\\envs\\MDandNLP\\lib\\site-packages\\fancyimpute\\solver.py:55: UserWarning: Input matrix is not missing any values\n",
      "  warnings.warn(\"Input matrix is not missing any values\")\n",
      "C:\\Users\\Daran\\AppData\\Local\\Temp/ipykernel_24548/3817280434.py:6: FutureWarning: Using a non-tuple sequence for multidimensional indexing is deprecated; use `arr[tuple(seq)]` instead of `arr[seq]`. In the future this will be interpreted as an array index, `arr[np.array(seq)]`, which will result either in an error or a different result.\n",
      "  data_series[7:][[ad_label[i] == 1]] = X_filled_knn[7:][[ad_label[i] == 1]]\n",
      "C:\\Users\\Daran\\AppData\\Local\\Temp/ipykernel_24548/3817280434.py:6: FutureWarning: Using a non-tuple sequence for multidimensional indexing is deprecated; use `arr[tuple(seq)]` instead of `arr[seq]`. In the future this will be interpreted as an array index, `arr[np.array(seq)]`, which will result either in an error or a different result.\n",
      "  data_series[7:][[ad_label[i] == 1]] = X_filled_knn[7:][[ad_label[i] == 1]]\n",
      "D:\\Anaconda\\envs\\MDandNLP\\lib\\site-packages\\fancyimpute\\solver.py:55: UserWarning: Input matrix is not missing any values\n",
      "  warnings.warn(\"Input matrix is not missing any values\")\n",
      "C:\\Users\\Daran\\AppData\\Local\\Temp/ipykernel_24548/3817280434.py:6: FutureWarning: Using a non-tuple sequence for multidimensional indexing is deprecated; use `arr[tuple(seq)]` instead of `arr[seq]`. In the future this will be interpreted as an array index, `arr[np.array(seq)]`, which will result either in an error or a different result.\n",
      "  data_series[7:][[ad_label[i] == 1]] = X_filled_knn[7:][[ad_label[i] == 1]]\n",
      "C:\\Users\\Daran\\AppData\\Local\\Temp/ipykernel_24548/3817280434.py:6: FutureWarning: Using a non-tuple sequence for multidimensional indexing is deprecated; use `arr[tuple(seq)]` instead of `arr[seq]`. In the future this will be interpreted as an array index, `arr[np.array(seq)]`, which will result either in an error or a different result.\n",
      "  data_series[7:][[ad_label[i] == 1]] = X_filled_knn[7:][[ad_label[i] == 1]]\n",
      "D:\\Anaconda\\envs\\MDandNLP\\lib\\site-packages\\fancyimpute\\solver.py:55: UserWarning: Input matrix is not missing any values\n",
      "  warnings.warn(\"Input matrix is not missing any values\")\n",
      "C:\\Users\\Daran\\AppData\\Local\\Temp/ipykernel_24548/3817280434.py:6: FutureWarning: Using a non-tuple sequence for multidimensional indexing is deprecated; use `arr[tuple(seq)]` instead of `arr[seq]`. In the future this will be interpreted as an array index, `arr[np.array(seq)]`, which will result either in an error or a different result.\n",
      "  data_series[7:][[ad_label[i] == 1]] = X_filled_knn[7:][[ad_label[i] == 1]]\n",
      "C:\\Users\\Daran\\AppData\\Local\\Temp/ipykernel_24548/3817280434.py:6: FutureWarning: Using a non-tuple sequence for multidimensional indexing is deprecated; use `arr[tuple(seq)]` instead of `arr[seq]`. In the future this will be interpreted as an array index, `arr[np.array(seq)]`, which will result either in an error or a different result.\n",
      "  data_series[7:][[ad_label[i] == 1]] = X_filled_knn[7:][[ad_label[i] == 1]]\n",
      "D:\\Anaconda\\envs\\MDandNLP\\lib\\site-packages\\fancyimpute\\solver.py:55: UserWarning: Input matrix is not missing any values\n",
      "  warnings.warn(\"Input matrix is not missing any values\")\n",
      "C:\\Users\\Daran\\AppData\\Local\\Temp/ipykernel_24548/3817280434.py:6: FutureWarning: Using a non-tuple sequence for multidimensional indexing is deprecated; use `arr[tuple(seq)]` instead of `arr[seq]`. In the future this will be interpreted as an array index, `arr[np.array(seq)]`, which will result either in an error or a different result.\n",
      "  data_series[7:][[ad_label[i] == 1]] = X_filled_knn[7:][[ad_label[i] == 1]]\n",
      "C:\\Users\\Daran\\AppData\\Local\\Temp/ipykernel_24548/3817280434.py:6: FutureWarning: Using a non-tuple sequence for multidimensional indexing is deprecated; use `arr[tuple(seq)]` instead of `arr[seq]`. In the future this will be interpreted as an array index, `arr[np.array(seq)]`, which will result either in an error or a different result.\n",
      "  data_series[7:][[ad_label[i] == 1]] = X_filled_knn[7:][[ad_label[i] == 1]]\n",
      "D:\\Anaconda\\envs\\MDandNLP\\lib\\site-packages\\fancyimpute\\solver.py:55: UserWarning: Input matrix is not missing any values\n",
      "  warnings.warn(\"Input matrix is not missing any values\")\n",
      "C:\\Users\\Daran\\AppData\\Local\\Temp/ipykernel_24548/3817280434.py:6: FutureWarning: Using a non-tuple sequence for multidimensional indexing is deprecated; use `arr[tuple(seq)]` instead of `arr[seq]`. In the future this will be interpreted as an array index, `arr[np.array(seq)]`, which will result either in an error or a different result.\n",
      "  data_series[7:][[ad_label[i] == 1]] = X_filled_knn[7:][[ad_label[i] == 1]]\n",
      "C:\\Users\\Daran\\AppData\\Local\\Temp/ipykernel_24548/3817280434.py:6: FutureWarning: Using a non-tuple sequence for multidimensional indexing is deprecated; use `arr[tuple(seq)]` instead of `arr[seq]`. In the future this will be interpreted as an array index, `arr[np.array(seq)]`, which will result either in an error or a different result.\n",
      "  data_series[7:][[ad_label[i] == 1]] = X_filled_knn[7:][[ad_label[i] == 1]]\n",
      "D:\\Anaconda\\envs\\MDandNLP\\lib\\site-packages\\fancyimpute\\solver.py:55: UserWarning: Input matrix is not missing any values\n",
      "  warnings.warn(\"Input matrix is not missing any values\")\n",
      "C:\\Users\\Daran\\AppData\\Local\\Temp/ipykernel_24548/3817280434.py:6: FutureWarning: Using a non-tuple sequence for multidimensional indexing is deprecated; use `arr[tuple(seq)]` instead of `arr[seq]`. In the future this will be interpreted as an array index, `arr[np.array(seq)]`, which will result either in an error or a different result.\n",
      "  data_series[7:][[ad_label[i] == 1]] = X_filled_knn[7:][[ad_label[i] == 1]]\n",
      "C:\\Users\\Daran\\AppData\\Local\\Temp/ipykernel_24548/3817280434.py:6: FutureWarning: Using a non-tuple sequence for multidimensional indexing is deprecated; use `arr[tuple(seq)]` instead of `arr[seq]`. In the future this will be interpreted as an array index, `arr[np.array(seq)]`, which will result either in an error or a different result.\n",
      "  data_series[7:][[ad_label[i] == 1]] = X_filled_knn[7:][[ad_label[i] == 1]]\n",
      "D:\\Anaconda\\envs\\MDandNLP\\lib\\site-packages\\fancyimpute\\solver.py:55: UserWarning: Input matrix is not missing any values\n",
      "  warnings.warn(\"Input matrix is not missing any values\")\n",
      "C:\\Users\\Daran\\AppData\\Local\\Temp/ipykernel_24548/3817280434.py:6: FutureWarning: Using a non-tuple sequence for multidimensional indexing is deprecated; use `arr[tuple(seq)]` instead of `arr[seq]`. In the future this will be interpreted as an array index, `arr[np.array(seq)]`, which will result either in an error or a different result.\n",
      "  data_series[7:][[ad_label[i] == 1]] = X_filled_knn[7:][[ad_label[i] == 1]]\n",
      "C:\\Users\\Daran\\AppData\\Local\\Temp/ipykernel_24548/3817280434.py:6: FutureWarning: Using a non-tuple sequence for multidimensional indexing is deprecated; use `arr[tuple(seq)]` instead of `arr[seq]`. In the future this will be interpreted as an array index, `arr[np.array(seq)]`, which will result either in an error or a different result.\n",
      "  data_series[7:][[ad_label[i] == 1]] = X_filled_knn[7:][[ad_label[i] == 1]]\n",
      "D:\\Anaconda\\envs\\MDandNLP\\lib\\site-packages\\fancyimpute\\solver.py:55: UserWarning: Input matrix is not missing any values\n",
      "  warnings.warn(\"Input matrix is not missing any values\")\n",
      "C:\\Users\\Daran\\AppData\\Local\\Temp/ipykernel_24548/3817280434.py:6: FutureWarning: Using a non-tuple sequence for multidimensional indexing is deprecated; use `arr[tuple(seq)]` instead of `arr[seq]`. In the future this will be interpreted as an array index, `arr[np.array(seq)]`, which will result either in an error or a different result.\n",
      "  data_series[7:][[ad_label[i] == 1]] = X_filled_knn[7:][[ad_label[i] == 1]]\n",
      "C:\\Users\\Daran\\AppData\\Local\\Temp/ipykernel_24548/3817280434.py:6: FutureWarning: Using a non-tuple sequence for multidimensional indexing is deprecated; use `arr[tuple(seq)]` instead of `arr[seq]`. In the future this will be interpreted as an array index, `arr[np.array(seq)]`, which will result either in an error or a different result.\n",
      "  data_series[7:][[ad_label[i] == 1]] = X_filled_knn[7:][[ad_label[i] == 1]]\n",
      "D:\\Anaconda\\envs\\MDandNLP\\lib\\site-packages\\fancyimpute\\solver.py:55: UserWarning: Input matrix is not missing any values\n",
      "  warnings.warn(\"Input matrix is not missing any values\")\n",
      "C:\\Users\\Daran\\AppData\\Local\\Temp/ipykernel_24548/3817280434.py:6: FutureWarning: Using a non-tuple sequence for multidimensional indexing is deprecated; use `arr[tuple(seq)]` instead of `arr[seq]`. In the future this will be interpreted as an array index, `arr[np.array(seq)]`, which will result either in an error or a different result.\n",
      "  data_series[7:][[ad_label[i] == 1]] = X_filled_knn[7:][[ad_label[i] == 1]]\n",
      "C:\\Users\\Daran\\AppData\\Local\\Temp/ipykernel_24548/3817280434.py:6: FutureWarning: Using a non-tuple sequence for multidimensional indexing is deprecated; use `arr[tuple(seq)]` instead of `arr[seq]`. In the future this will be interpreted as an array index, `arr[np.array(seq)]`, which will result either in an error or a different result.\n",
      "  data_series[7:][[ad_label[i] == 1]] = X_filled_knn[7:][[ad_label[i] == 1]]\n",
      "D:\\Anaconda\\envs\\MDandNLP\\lib\\site-packages\\fancyimpute\\solver.py:55: UserWarning: Input matrix is not missing any values\n",
      "  warnings.warn(\"Input matrix is not missing any values\")\n",
      "C:\\Users\\Daran\\AppData\\Local\\Temp/ipykernel_24548/3817280434.py:6: FutureWarning: Using a non-tuple sequence for multidimensional indexing is deprecated; use `arr[tuple(seq)]` instead of `arr[seq]`. In the future this will be interpreted as an array index, `arr[np.array(seq)]`, which will result either in an error or a different result.\n",
      "  data_series[7:][[ad_label[i] == 1]] = X_filled_knn[7:][[ad_label[i] == 1]]\n",
      "C:\\Users\\Daran\\AppData\\Local\\Temp/ipykernel_24548/3817280434.py:6: FutureWarning: Using a non-tuple sequence for multidimensional indexing is deprecated; use `arr[tuple(seq)]` instead of `arr[seq]`. In the future this will be interpreted as an array index, `arr[np.array(seq)]`, which will result either in an error or a different result.\n",
      "  data_series[7:][[ad_label[i] == 1]] = X_filled_knn[7:][[ad_label[i] == 1]]\n",
      "D:\\Anaconda\\envs\\MDandNLP\\lib\\site-packages\\fancyimpute\\solver.py:55: UserWarning: Input matrix is not missing any values\n",
      "  warnings.warn(\"Input matrix is not missing any values\")\n",
      "C:\\Users\\Daran\\AppData\\Local\\Temp/ipykernel_24548/3817280434.py:6: FutureWarning: Using a non-tuple sequence for multidimensional indexing is deprecated; use `arr[tuple(seq)]` instead of `arr[seq]`. In the future this will be interpreted as an array index, `arr[np.array(seq)]`, which will result either in an error or a different result.\n",
      "  data_series[7:][[ad_label[i] == 1]] = X_filled_knn[7:][[ad_label[i] == 1]]\n",
      "C:\\Users\\Daran\\AppData\\Local\\Temp/ipykernel_24548/3817280434.py:6: FutureWarning: Using a non-tuple sequence for multidimensional indexing is deprecated; use `arr[tuple(seq)]` instead of `arr[seq]`. In the future this will be interpreted as an array index, `arr[np.array(seq)]`, which will result either in an error or a different result.\n",
      "  data_series[7:][[ad_label[i] == 1]] = X_filled_knn[7:][[ad_label[i] == 1]]\n",
      "D:\\Anaconda\\envs\\MDandNLP\\lib\\site-packages\\fancyimpute\\solver.py:55: UserWarning: Input matrix is not missing any values\n",
      "  warnings.warn(\"Input matrix is not missing any values\")\n",
      "C:\\Users\\Daran\\AppData\\Local\\Temp/ipykernel_24548/3817280434.py:6: FutureWarning: Using a non-tuple sequence for multidimensional indexing is deprecated; use `arr[tuple(seq)]` instead of `arr[seq]`. In the future this will be interpreted as an array index, `arr[np.array(seq)]`, which will result either in an error or a different result.\n",
      "  data_series[7:][[ad_label[i] == 1]] = X_filled_knn[7:][[ad_label[i] == 1]]\n",
      "C:\\Users\\Daran\\AppData\\Local\\Temp/ipykernel_24548/3817280434.py:6: FutureWarning: Using a non-tuple sequence for multidimensional indexing is deprecated; use `arr[tuple(seq)]` instead of `arr[seq]`. In the future this will be interpreted as an array index, `arr[np.array(seq)]`, which will result either in an error or a different result.\n",
      "  data_series[7:][[ad_label[i] == 1]] = X_filled_knn[7:][[ad_label[i] == 1]]\n",
      "D:\\Anaconda\\envs\\MDandNLP\\lib\\site-packages\\fancyimpute\\solver.py:55: UserWarning: Input matrix is not missing any values\n",
      "  warnings.warn(\"Input matrix is not missing any values\")\n",
      "C:\\Users\\Daran\\AppData\\Local\\Temp/ipykernel_24548/3817280434.py:6: FutureWarning: Using a non-tuple sequence for multidimensional indexing is deprecated; use `arr[tuple(seq)]` instead of `arr[seq]`. In the future this will be interpreted as an array index, `arr[np.array(seq)]`, which will result either in an error or a different result.\n",
      "  data_series[7:][[ad_label[i] == 1]] = X_filled_knn[7:][[ad_label[i] == 1]]\n",
      "C:\\Users\\Daran\\AppData\\Local\\Temp/ipykernel_24548/3817280434.py:6: FutureWarning: Using a non-tuple sequence for multidimensional indexing is deprecated; use `arr[tuple(seq)]` instead of `arr[seq]`. In the future this will be interpreted as an array index, `arr[np.array(seq)]`, which will result either in an error or a different result.\n",
      "  data_series[7:][[ad_label[i] == 1]] = X_filled_knn[7:][[ad_label[i] == 1]]\n",
      "D:\\Anaconda\\envs\\MDandNLP\\lib\\site-packages\\fancyimpute\\solver.py:55: UserWarning: Input matrix is not missing any values\n",
      "  warnings.warn(\"Input matrix is not missing any values\")\n",
      "C:\\Users\\Daran\\AppData\\Local\\Temp/ipykernel_24548/3817280434.py:6: FutureWarning: Using a non-tuple sequence for multidimensional indexing is deprecated; use `arr[tuple(seq)]` instead of `arr[seq]`. In the future this will be interpreted as an array index, `arr[np.array(seq)]`, which will result either in an error or a different result.\n",
      "  data_series[7:][[ad_label[i] == 1]] = X_filled_knn[7:][[ad_label[i] == 1]]\n",
      "C:\\Users\\Daran\\AppData\\Local\\Temp/ipykernel_24548/3817280434.py:6: FutureWarning: Using a non-tuple sequence for multidimensional indexing is deprecated; use `arr[tuple(seq)]` instead of `arr[seq]`. In the future this will be interpreted as an array index, `arr[np.array(seq)]`, which will result either in an error or a different result.\n",
      "  data_series[7:][[ad_label[i] == 1]] = X_filled_knn[7:][[ad_label[i] == 1]]\n",
      "D:\\Anaconda\\envs\\MDandNLP\\lib\\site-packages\\fancyimpute\\solver.py:55: UserWarning: Input matrix is not missing any values\n",
      "  warnings.warn(\"Input matrix is not missing any values\")\n",
      "C:\\Users\\Daran\\AppData\\Local\\Temp/ipykernel_24548/3817280434.py:6: FutureWarning: Using a non-tuple sequence for multidimensional indexing is deprecated; use `arr[tuple(seq)]` instead of `arr[seq]`. In the future this will be interpreted as an array index, `arr[np.array(seq)]`, which will result either in an error or a different result.\n",
      "  data_series[7:][[ad_label[i] == 1]] = X_filled_knn[7:][[ad_label[i] == 1]]\n",
      "C:\\Users\\Daran\\AppData\\Local\\Temp/ipykernel_24548/3817280434.py:6: FutureWarning: Using a non-tuple sequence for multidimensional indexing is deprecated; use `arr[tuple(seq)]` instead of `arr[seq]`. In the future this will be interpreted as an array index, `arr[np.array(seq)]`, which will result either in an error or a different result.\n",
      "  data_series[7:][[ad_label[i] == 1]] = X_filled_knn[7:][[ad_label[i] == 1]]\n",
      "D:\\Anaconda\\envs\\MDandNLP\\lib\\site-packages\\fancyimpute\\solver.py:55: UserWarning: Input matrix is not missing any values\n",
      "  warnings.warn(\"Input matrix is not missing any values\")\n",
      "C:\\Users\\Daran\\AppData\\Local\\Temp/ipykernel_24548/3817280434.py:6: FutureWarning: Using a non-tuple sequence for multidimensional indexing is deprecated; use `arr[tuple(seq)]` instead of `arr[seq]`. In the future this will be interpreted as an array index, `arr[np.array(seq)]`, which will result either in an error or a different result.\n",
      "  data_series[7:][[ad_label[i] == 1]] = X_filled_knn[7:][[ad_label[i] == 1]]\n",
      "C:\\Users\\Daran\\AppData\\Local\\Temp/ipykernel_24548/3817280434.py:6: FutureWarning: Using a non-tuple sequence for multidimensional indexing is deprecated; use `arr[tuple(seq)]` instead of `arr[seq]`. In the future this will be interpreted as an array index, `arr[np.array(seq)]`, which will result either in an error or a different result.\n",
      "  data_series[7:][[ad_label[i] == 1]] = X_filled_knn[7:][[ad_label[i] == 1]]\n",
      "D:\\Anaconda\\envs\\MDandNLP\\lib\\site-packages\\fancyimpute\\solver.py:55: UserWarning: Input matrix is not missing any values\n",
      "  warnings.warn(\"Input matrix is not missing any values\")\n",
      "C:\\Users\\Daran\\AppData\\Local\\Temp/ipykernel_24548/3817280434.py:6: FutureWarning: Using a non-tuple sequence for multidimensional indexing is deprecated; use `arr[tuple(seq)]` instead of `arr[seq]`. In the future this will be interpreted as an array index, `arr[np.array(seq)]`, which will result either in an error or a different result.\n",
      "  data_series[7:][[ad_label[i] == 1]] = X_filled_knn[7:][[ad_label[i] == 1]]\n",
      "C:\\Users\\Daran\\AppData\\Local\\Temp/ipykernel_24548/3817280434.py:6: FutureWarning: Using a non-tuple sequence for multidimensional indexing is deprecated; use `arr[tuple(seq)]` instead of `arr[seq]`. In the future this will be interpreted as an array index, `arr[np.array(seq)]`, which will result either in an error or a different result.\n",
      "  data_series[7:][[ad_label[i] == 1]] = X_filled_knn[7:][[ad_label[i] == 1]]\n",
      "D:\\Anaconda\\envs\\MDandNLP\\lib\\site-packages\\fancyimpute\\solver.py:55: UserWarning: Input matrix is not missing any values\n",
      "  warnings.warn(\"Input matrix is not missing any values\")\n",
      "C:\\Users\\Daran\\AppData\\Local\\Temp/ipykernel_24548/3817280434.py:6: FutureWarning: Using a non-tuple sequence for multidimensional indexing is deprecated; use `arr[tuple(seq)]` instead of `arr[seq]`. In the future this will be interpreted as an array index, `arr[np.array(seq)]`, which will result either in an error or a different result.\n",
      "  data_series[7:][[ad_label[i] == 1]] = X_filled_knn[7:][[ad_label[i] == 1]]\n",
      "C:\\Users\\Daran\\AppData\\Local\\Temp/ipykernel_24548/3817280434.py:6: FutureWarning: Using a non-tuple sequence for multidimensional indexing is deprecated; use `arr[tuple(seq)]` instead of `arr[seq]`. In the future this will be interpreted as an array index, `arr[np.array(seq)]`, which will result either in an error or a different result.\n",
      "  data_series[7:][[ad_label[i] == 1]] = X_filled_knn[7:][[ad_label[i] == 1]]\n",
      "D:\\Anaconda\\envs\\MDandNLP\\lib\\site-packages\\fancyimpute\\solver.py:55: UserWarning: Input matrix is not missing any values\n",
      "  warnings.warn(\"Input matrix is not missing any values\")\n",
      "C:\\Users\\Daran\\AppData\\Local\\Temp/ipykernel_24548/3817280434.py:6: FutureWarning: Using a non-tuple sequence for multidimensional indexing is deprecated; use `arr[tuple(seq)]` instead of `arr[seq]`. In the future this will be interpreted as an array index, `arr[np.array(seq)]`, which will result either in an error or a different result.\n",
      "  data_series[7:][[ad_label[i] == 1]] = X_filled_knn[7:][[ad_label[i] == 1]]\n",
      "C:\\Users\\Daran\\AppData\\Local\\Temp/ipykernel_24548/3817280434.py:6: FutureWarning: Using a non-tuple sequence for multidimensional indexing is deprecated; use `arr[tuple(seq)]` instead of `arr[seq]`. In the future this will be interpreted as an array index, `arr[np.array(seq)]`, which will result either in an error or a different result.\n",
      "  data_series[7:][[ad_label[i] == 1]] = X_filled_knn[7:][[ad_label[i] == 1]]\n",
      "D:\\Anaconda\\envs\\MDandNLP\\lib\\site-packages\\fancyimpute\\solver.py:55: UserWarning: Input matrix is not missing any values\n",
      "  warnings.warn(\"Input matrix is not missing any values\")\n",
      "C:\\Users\\Daran\\AppData\\Local\\Temp/ipykernel_24548/3817280434.py:6: FutureWarning: Using a non-tuple sequence for multidimensional indexing is deprecated; use `arr[tuple(seq)]` instead of `arr[seq]`. In the future this will be interpreted as an array index, `arr[np.array(seq)]`, which will result either in an error or a different result.\n",
      "  data_series[7:][[ad_label[i] == 1]] = X_filled_knn[7:][[ad_label[i] == 1]]\n",
      "C:\\Users\\Daran\\AppData\\Local\\Temp/ipykernel_24548/3817280434.py:6: FutureWarning: Using a non-tuple sequence for multidimensional indexing is deprecated; use `arr[tuple(seq)]` instead of `arr[seq]`. In the future this will be interpreted as an array index, `arr[np.array(seq)]`, which will result either in an error or a different result.\n",
      "  data_series[7:][[ad_label[i] == 1]] = X_filled_knn[7:][[ad_label[i] == 1]]\n",
      "D:\\Anaconda\\envs\\MDandNLP\\lib\\site-packages\\fancyimpute\\solver.py:55: UserWarning: Input matrix is not missing any values\n",
      "  warnings.warn(\"Input matrix is not missing any values\")\n",
      "C:\\Users\\Daran\\AppData\\Local\\Temp/ipykernel_24548/3817280434.py:6: FutureWarning: Using a non-tuple sequence for multidimensional indexing is deprecated; use `arr[tuple(seq)]` instead of `arr[seq]`. In the future this will be interpreted as an array index, `arr[np.array(seq)]`, which will result either in an error or a different result.\n",
      "  data_series[7:][[ad_label[i] == 1]] = X_filled_knn[7:][[ad_label[i] == 1]]\n",
      "C:\\Users\\Daran\\AppData\\Local\\Temp/ipykernel_24548/3817280434.py:6: FutureWarning: Using a non-tuple sequence for multidimensional indexing is deprecated; use `arr[tuple(seq)]` instead of `arr[seq]`. In the future this will be interpreted as an array index, `arr[np.array(seq)]`, which will result either in an error or a different result.\n",
      "  data_series[7:][[ad_label[i] == 1]] = X_filled_knn[7:][[ad_label[i] == 1]]\n",
      "D:\\Anaconda\\envs\\MDandNLP\\lib\\site-packages\\fancyimpute\\solver.py:55: UserWarning: Input matrix is not missing any values\n",
      "  warnings.warn(\"Input matrix is not missing any values\")\n",
      "C:\\Users\\Daran\\AppData\\Local\\Temp/ipykernel_24548/3817280434.py:6: FutureWarning: Using a non-tuple sequence for multidimensional indexing is deprecated; use `arr[tuple(seq)]` instead of `arr[seq]`. In the future this will be interpreted as an array index, `arr[np.array(seq)]`, which will result either in an error or a different result.\n",
      "  data_series[7:][[ad_label[i] == 1]] = X_filled_knn[7:][[ad_label[i] == 1]]\n",
      "C:\\Users\\Daran\\AppData\\Local\\Temp/ipykernel_24548/3817280434.py:6: FutureWarning: Using a non-tuple sequence for multidimensional indexing is deprecated; use `arr[tuple(seq)]` instead of `arr[seq]`. In the future this will be interpreted as an array index, `arr[np.array(seq)]`, which will result either in an error or a different result.\n",
      "  data_series[7:][[ad_label[i] == 1]] = X_filled_knn[7:][[ad_label[i] == 1]]\n",
      "D:\\Anaconda\\envs\\MDandNLP\\lib\\site-packages\\fancyimpute\\solver.py:55: UserWarning: Input matrix is not missing any values\n",
      "  warnings.warn(\"Input matrix is not missing any values\")\n",
      "C:\\Users\\Daran\\AppData\\Local\\Temp/ipykernel_24548/3817280434.py:6: FutureWarning: Using a non-tuple sequence for multidimensional indexing is deprecated; use `arr[tuple(seq)]` instead of `arr[seq]`. In the future this will be interpreted as an array index, `arr[np.array(seq)]`, which will result either in an error or a different result.\n",
      "  data_series[7:][[ad_label[i] == 1]] = X_filled_knn[7:][[ad_label[i] == 1]]\n",
      "C:\\Users\\Daran\\AppData\\Local\\Temp/ipykernel_24548/3817280434.py:6: FutureWarning: Using a non-tuple sequence for multidimensional indexing is deprecated; use `arr[tuple(seq)]` instead of `arr[seq]`. In the future this will be interpreted as an array index, `arr[np.array(seq)]`, which will result either in an error or a different result.\n",
      "  data_series[7:][[ad_label[i] == 1]] = X_filled_knn[7:][[ad_label[i] == 1]]\n",
      "D:\\Anaconda\\envs\\MDandNLP\\lib\\site-packages\\fancyimpute\\solver.py:55: UserWarning: Input matrix is not missing any values\n",
      "  warnings.warn(\"Input matrix is not missing any values\")\n",
      "C:\\Users\\Daran\\AppData\\Local\\Temp/ipykernel_24548/3817280434.py:6: FutureWarning: Using a non-tuple sequence for multidimensional indexing is deprecated; use `arr[tuple(seq)]` instead of `arr[seq]`. In the future this will be interpreted as an array index, `arr[np.array(seq)]`, which will result either in an error or a different result.\n",
      "  data_series[7:][[ad_label[i] == 1]] = X_filled_knn[7:][[ad_label[i] == 1]]\n",
      "C:\\Users\\Daran\\AppData\\Local\\Temp/ipykernel_24548/3817280434.py:6: FutureWarning: Using a non-tuple sequence for multidimensional indexing is deprecated; use `arr[tuple(seq)]` instead of `arr[seq]`. In the future this will be interpreted as an array index, `arr[np.array(seq)]`, which will result either in an error or a different result.\n",
      "  data_series[7:][[ad_label[i] == 1]] = X_filled_knn[7:][[ad_label[i] == 1]]\n",
      "D:\\Anaconda\\envs\\MDandNLP\\lib\\site-packages\\fancyimpute\\solver.py:55: UserWarning: Input matrix is not missing any values\n",
      "  warnings.warn(\"Input matrix is not missing any values\")\n",
      "C:\\Users\\Daran\\AppData\\Local\\Temp/ipykernel_24548/3817280434.py:6: FutureWarning: Using a non-tuple sequence for multidimensional indexing is deprecated; use `arr[tuple(seq)]` instead of `arr[seq]`. In the future this will be interpreted as an array index, `arr[np.array(seq)]`, which will result either in an error or a different result.\n",
      "  data_series[7:][[ad_label[i] == 1]] = X_filled_knn[7:][[ad_label[i] == 1]]\n",
      "C:\\Users\\Daran\\AppData\\Local\\Temp/ipykernel_24548/3817280434.py:6: FutureWarning: Using a non-tuple sequence for multidimensional indexing is deprecated; use `arr[tuple(seq)]` instead of `arr[seq]`. In the future this will be interpreted as an array index, `arr[np.array(seq)]`, which will result either in an error or a different result.\n",
      "  data_series[7:][[ad_label[i] == 1]] = X_filled_knn[7:][[ad_label[i] == 1]]\n",
      "D:\\Anaconda\\envs\\MDandNLP\\lib\\site-packages\\fancyimpute\\solver.py:55: UserWarning: Input matrix is not missing any values\n",
      "  warnings.warn(\"Input matrix is not missing any values\")\n",
      "C:\\Users\\Daran\\AppData\\Local\\Temp/ipykernel_24548/3817280434.py:6: FutureWarning: Using a non-tuple sequence for multidimensional indexing is deprecated; use `arr[tuple(seq)]` instead of `arr[seq]`. In the future this will be interpreted as an array index, `arr[np.array(seq)]`, which will result either in an error or a different result.\n",
      "  data_series[7:][[ad_label[i] == 1]] = X_filled_knn[7:][[ad_label[i] == 1]]\n",
      "C:\\Users\\Daran\\AppData\\Local\\Temp/ipykernel_24548/3817280434.py:6: FutureWarning: Using a non-tuple sequence for multidimensional indexing is deprecated; use `arr[tuple(seq)]` instead of `arr[seq]`. In the future this will be interpreted as an array index, `arr[np.array(seq)]`, which will result either in an error or a different result.\n",
      "  data_series[7:][[ad_label[i] == 1]] = X_filled_knn[7:][[ad_label[i] == 1]]\n",
      "D:\\Anaconda\\envs\\MDandNLP\\lib\\site-packages\\fancyimpute\\solver.py:55: UserWarning: Input matrix is not missing any values\n",
      "  warnings.warn(\"Input matrix is not missing any values\")\n",
      "C:\\Users\\Daran\\AppData\\Local\\Temp/ipykernel_24548/3817280434.py:6: FutureWarning: Using a non-tuple sequence for multidimensional indexing is deprecated; use `arr[tuple(seq)]` instead of `arr[seq]`. In the future this will be interpreted as an array index, `arr[np.array(seq)]`, which will result either in an error or a different result.\n",
      "  data_series[7:][[ad_label[i] == 1]] = X_filled_knn[7:][[ad_label[i] == 1]]\n",
      "C:\\Users\\Daran\\AppData\\Local\\Temp/ipykernel_24548/3817280434.py:6: FutureWarning: Using a non-tuple sequence for multidimensional indexing is deprecated; use `arr[tuple(seq)]` instead of `arr[seq]`. In the future this will be interpreted as an array index, `arr[np.array(seq)]`, which will result either in an error or a different result.\n",
      "  data_series[7:][[ad_label[i] == 1]] = X_filled_knn[7:][[ad_label[i] == 1]]\n",
      "D:\\Anaconda\\envs\\MDandNLP\\lib\\site-packages\\fancyimpute\\solver.py:55: UserWarning: Input matrix is not missing any values\n",
      "  warnings.warn(\"Input matrix is not missing any values\")\n",
      "C:\\Users\\Daran\\AppData\\Local\\Temp/ipykernel_24548/3817280434.py:6: FutureWarning: Using a non-tuple sequence for multidimensional indexing is deprecated; use `arr[tuple(seq)]` instead of `arr[seq]`. In the future this will be interpreted as an array index, `arr[np.array(seq)]`, which will result either in an error or a different result.\n",
      "  data_series[7:][[ad_label[i] == 1]] = X_filled_knn[7:][[ad_label[i] == 1]]\n",
      "C:\\Users\\Daran\\AppData\\Local\\Temp/ipykernel_24548/3817280434.py:6: FutureWarning: Using a non-tuple sequence for multidimensional indexing is deprecated; use `arr[tuple(seq)]` instead of `arr[seq]`. In the future this will be interpreted as an array index, `arr[np.array(seq)]`, which will result either in an error or a different result.\n",
      "  data_series[7:][[ad_label[i] == 1]] = X_filled_knn[7:][[ad_label[i] == 1]]\n",
      "D:\\Anaconda\\envs\\MDandNLP\\lib\\site-packages\\fancyimpute\\solver.py:55: UserWarning: Input matrix is not missing any values\n",
      "  warnings.warn(\"Input matrix is not missing any values\")\n",
      "C:\\Users\\Daran\\AppData\\Local\\Temp/ipykernel_24548/3817280434.py:6: FutureWarning: Using a non-tuple sequence for multidimensional indexing is deprecated; use `arr[tuple(seq)]` instead of `arr[seq]`. In the future this will be interpreted as an array index, `arr[np.array(seq)]`, which will result either in an error or a different result.\n",
      "  data_series[7:][[ad_label[i] == 1]] = X_filled_knn[7:][[ad_label[i] == 1]]\n",
      "C:\\Users\\Daran\\AppData\\Local\\Temp/ipykernel_24548/3817280434.py:6: FutureWarning: Using a non-tuple sequence for multidimensional indexing is deprecated; use `arr[tuple(seq)]` instead of `arr[seq]`. In the future this will be interpreted as an array index, `arr[np.array(seq)]`, which will result either in an error or a different result.\n",
      "  data_series[7:][[ad_label[i] == 1]] = X_filled_knn[7:][[ad_label[i] == 1]]\n",
      "D:\\Anaconda\\envs\\MDandNLP\\lib\\site-packages\\fancyimpute\\solver.py:55: UserWarning: Input matrix is not missing any values\n",
      "  warnings.warn(\"Input matrix is not missing any values\")\n",
      "C:\\Users\\Daran\\AppData\\Local\\Temp/ipykernel_24548/3817280434.py:6: FutureWarning: Using a non-tuple sequence for multidimensional indexing is deprecated; use `arr[tuple(seq)]` instead of `arr[seq]`. In the future this will be interpreted as an array index, `arr[np.array(seq)]`, which will result either in an error or a different result.\n",
      "  data_series[7:][[ad_label[i] == 1]] = X_filled_knn[7:][[ad_label[i] == 1]]\n",
      "C:\\Users\\Daran\\AppData\\Local\\Temp/ipykernel_24548/3817280434.py:6: FutureWarning: Using a non-tuple sequence for multidimensional indexing is deprecated; use `arr[tuple(seq)]` instead of `arr[seq]`. In the future this will be interpreted as an array index, `arr[np.array(seq)]`, which will result either in an error or a different result.\n",
      "  data_series[7:][[ad_label[i] == 1]] = X_filled_knn[7:][[ad_label[i] == 1]]\n",
      "D:\\Anaconda\\envs\\MDandNLP\\lib\\site-packages\\fancyimpute\\solver.py:55: UserWarning: Input matrix is not missing any values\n",
      "  warnings.warn(\"Input matrix is not missing any values\")\n",
      "C:\\Users\\Daran\\AppData\\Local\\Temp/ipykernel_24548/3817280434.py:6: FutureWarning: Using a non-tuple sequence for multidimensional indexing is deprecated; use `arr[tuple(seq)]` instead of `arr[seq]`. In the future this will be interpreted as an array index, `arr[np.array(seq)]`, which will result either in an error or a different result.\n",
      "  data_series[7:][[ad_label[i] == 1]] = X_filled_knn[7:][[ad_label[i] == 1]]\n",
      "C:\\Users\\Daran\\AppData\\Local\\Temp/ipykernel_24548/3817280434.py:6: FutureWarning: Using a non-tuple sequence for multidimensional indexing is deprecated; use `arr[tuple(seq)]` instead of `arr[seq]`. In the future this will be interpreted as an array index, `arr[np.array(seq)]`, which will result either in an error or a different result.\n",
      "  data_series[7:][[ad_label[i] == 1]] = X_filled_knn[7:][[ad_label[i] == 1]]\n",
      "D:\\Anaconda\\envs\\MDandNLP\\lib\\site-packages\\fancyimpute\\solver.py:55: UserWarning: Input matrix is not missing any values\n",
      "  warnings.warn(\"Input matrix is not missing any values\")\n",
      "C:\\Users\\Daran\\AppData\\Local\\Temp/ipykernel_24548/3817280434.py:6: FutureWarning: Using a non-tuple sequence for multidimensional indexing is deprecated; use `arr[tuple(seq)]` instead of `arr[seq]`. In the future this will be interpreted as an array index, `arr[np.array(seq)]`, which will result either in an error or a different result.\n",
      "  data_series[7:][[ad_label[i] == 1]] = X_filled_knn[7:][[ad_label[i] == 1]]\n",
      "C:\\Users\\Daran\\AppData\\Local\\Temp/ipykernel_24548/3817280434.py:6: FutureWarning: Using a non-tuple sequence for multidimensional indexing is deprecated; use `arr[tuple(seq)]` instead of `arr[seq]`. In the future this will be interpreted as an array index, `arr[np.array(seq)]`, which will result either in an error or a different result.\n",
      "  data_series[7:][[ad_label[i] == 1]] = X_filled_knn[7:][[ad_label[i] == 1]]\n",
      "D:\\Anaconda\\envs\\MDandNLP\\lib\\site-packages\\fancyimpute\\solver.py:55: UserWarning: Input matrix is not missing any values\n",
      "  warnings.warn(\"Input matrix is not missing any values\")\n",
      "C:\\Users\\Daran\\AppData\\Local\\Temp/ipykernel_24548/3817280434.py:6: FutureWarning: Using a non-tuple sequence for multidimensional indexing is deprecated; use `arr[tuple(seq)]` instead of `arr[seq]`. In the future this will be interpreted as an array index, `arr[np.array(seq)]`, which will result either in an error or a different result.\n",
      "  data_series[7:][[ad_label[i] == 1]] = X_filled_knn[7:][[ad_label[i] == 1]]\n",
      "C:\\Users\\Daran\\AppData\\Local\\Temp/ipykernel_24548/3817280434.py:6: FutureWarning: Using a non-tuple sequence for multidimensional indexing is deprecated; use `arr[tuple(seq)]` instead of `arr[seq]`. In the future this will be interpreted as an array index, `arr[np.array(seq)]`, which will result either in an error or a different result.\n",
      "  data_series[7:][[ad_label[i] == 1]] = X_filled_knn[7:][[ad_label[i] == 1]]\n",
      "D:\\Anaconda\\envs\\MDandNLP\\lib\\site-packages\\fancyimpute\\solver.py:55: UserWarning: Input matrix is not missing any values\n",
      "  warnings.warn(\"Input matrix is not missing any values\")\n",
      "C:\\Users\\Daran\\AppData\\Local\\Temp/ipykernel_24548/3817280434.py:6: FutureWarning: Using a non-tuple sequence for multidimensional indexing is deprecated; use `arr[tuple(seq)]` instead of `arr[seq]`. In the future this will be interpreted as an array index, `arr[np.array(seq)]`, which will result either in an error or a different result.\n",
      "  data_series[7:][[ad_label[i] == 1]] = X_filled_knn[7:][[ad_label[i] == 1]]\n",
      "C:\\Users\\Daran\\AppData\\Local\\Temp/ipykernel_24548/3817280434.py:6: FutureWarning: Using a non-tuple sequence for multidimensional indexing is deprecated; use `arr[tuple(seq)]` instead of `arr[seq]`. In the future this will be interpreted as an array index, `arr[np.array(seq)]`, which will result either in an error or a different result.\n",
      "  data_series[7:][[ad_label[i] == 1]] = X_filled_knn[7:][[ad_label[i] == 1]]\n",
      "D:\\Anaconda\\envs\\MDandNLP\\lib\\site-packages\\fancyimpute\\solver.py:55: UserWarning: Input matrix is not missing any values\n",
      "  warnings.warn(\"Input matrix is not missing any values\")\n",
      "C:\\Users\\Daran\\AppData\\Local\\Temp/ipykernel_24548/3817280434.py:6: FutureWarning: Using a non-tuple sequence for multidimensional indexing is deprecated; use `arr[tuple(seq)]` instead of `arr[seq]`. In the future this will be interpreted as an array index, `arr[np.array(seq)]`, which will result either in an error or a different result.\n",
      "  data_series[7:][[ad_label[i] == 1]] = X_filled_knn[7:][[ad_label[i] == 1]]\n",
      "C:\\Users\\Daran\\AppData\\Local\\Temp/ipykernel_24548/3817280434.py:6: FutureWarning: Using a non-tuple sequence for multidimensional indexing is deprecated; use `arr[tuple(seq)]` instead of `arr[seq]`. In the future this will be interpreted as an array index, `arr[np.array(seq)]`, which will result either in an error or a different result.\n",
      "  data_series[7:][[ad_label[i] == 1]] = X_filled_knn[7:][[ad_label[i] == 1]]\n",
      "D:\\Anaconda\\envs\\MDandNLP\\lib\\site-packages\\fancyimpute\\solver.py:55: UserWarning: Input matrix is not missing any values\n",
      "  warnings.warn(\"Input matrix is not missing any values\")\n",
      "C:\\Users\\Daran\\AppData\\Local\\Temp/ipykernel_24548/3817280434.py:6: FutureWarning: Using a non-tuple sequence for multidimensional indexing is deprecated; use `arr[tuple(seq)]` instead of `arr[seq]`. In the future this will be interpreted as an array index, `arr[np.array(seq)]`, which will result either in an error or a different result.\n",
      "  data_series[7:][[ad_label[i] == 1]] = X_filled_knn[7:][[ad_label[i] == 1]]\n",
      "C:\\Users\\Daran\\AppData\\Local\\Temp/ipykernel_24548/3817280434.py:6: FutureWarning: Using a non-tuple sequence for multidimensional indexing is deprecated; use `arr[tuple(seq)]` instead of `arr[seq]`. In the future this will be interpreted as an array index, `arr[np.array(seq)]`, which will result either in an error or a different result.\n",
      "  data_series[7:][[ad_label[i] == 1]] = X_filled_knn[7:][[ad_label[i] == 1]]\n",
      "D:\\Anaconda\\envs\\MDandNLP\\lib\\site-packages\\fancyimpute\\solver.py:55: UserWarning: Input matrix is not missing any values\n",
      "  warnings.warn(\"Input matrix is not missing any values\")\n",
      "C:\\Users\\Daran\\AppData\\Local\\Temp/ipykernel_24548/3817280434.py:6: FutureWarning: Using a non-tuple sequence for multidimensional indexing is deprecated; use `arr[tuple(seq)]` instead of `arr[seq]`. In the future this will be interpreted as an array index, `arr[np.array(seq)]`, which will result either in an error or a different result.\n",
      "  data_series[7:][[ad_label[i] == 1]] = X_filled_knn[7:][[ad_label[i] == 1]]\n",
      "C:\\Users\\Daran\\AppData\\Local\\Temp/ipykernel_24548/3817280434.py:6: FutureWarning: Using a non-tuple sequence for multidimensional indexing is deprecated; use `arr[tuple(seq)]` instead of `arr[seq]`. In the future this will be interpreted as an array index, `arr[np.array(seq)]`, which will result either in an error or a different result.\n",
      "  data_series[7:][[ad_label[i] == 1]] = X_filled_knn[7:][[ad_label[i] == 1]]\n",
      "D:\\Anaconda\\envs\\MDandNLP\\lib\\site-packages\\fancyimpute\\solver.py:55: UserWarning: Input matrix is not missing any values\n",
      "  warnings.warn(\"Input matrix is not missing any values\")\n",
      "C:\\Users\\Daran\\AppData\\Local\\Temp/ipykernel_24548/3817280434.py:6: FutureWarning: Using a non-tuple sequence for multidimensional indexing is deprecated; use `arr[tuple(seq)]` instead of `arr[seq]`. In the future this will be interpreted as an array index, `arr[np.array(seq)]`, which will result either in an error or a different result.\n",
      "  data_series[7:][[ad_label[i] == 1]] = X_filled_knn[7:][[ad_label[i] == 1]]\n",
      "C:\\Users\\Daran\\AppData\\Local\\Temp/ipykernel_24548/3817280434.py:6: FutureWarning: Using a non-tuple sequence for multidimensional indexing is deprecated; use `arr[tuple(seq)]` instead of `arr[seq]`. In the future this will be interpreted as an array index, `arr[np.array(seq)]`, which will result either in an error or a different result.\n",
      "  data_series[7:][[ad_label[i] == 1]] = X_filled_knn[7:][[ad_label[i] == 1]]\n",
      "D:\\Anaconda\\envs\\MDandNLP\\lib\\site-packages\\fancyimpute\\solver.py:55: UserWarning: Input matrix is not missing any values\n",
      "  warnings.warn(\"Input matrix is not missing any values\")\n",
      "C:\\Users\\Daran\\AppData\\Local\\Temp/ipykernel_24548/3817280434.py:6: FutureWarning: Using a non-tuple sequence for multidimensional indexing is deprecated; use `arr[tuple(seq)]` instead of `arr[seq]`. In the future this will be interpreted as an array index, `arr[np.array(seq)]`, which will result either in an error or a different result.\n",
      "  data_series[7:][[ad_label[i] == 1]] = X_filled_knn[7:][[ad_label[i] == 1]]\n",
      "C:\\Users\\Daran\\AppData\\Local\\Temp/ipykernel_24548/3817280434.py:6: FutureWarning: Using a non-tuple sequence for multidimensional indexing is deprecated; use `arr[tuple(seq)]` instead of `arr[seq]`. In the future this will be interpreted as an array index, `arr[np.array(seq)]`, which will result either in an error or a different result.\n",
      "  data_series[7:][[ad_label[i] == 1]] = X_filled_knn[7:][[ad_label[i] == 1]]\n",
      "D:\\Anaconda\\envs\\MDandNLP\\lib\\site-packages\\fancyimpute\\solver.py:55: UserWarning: Input matrix is not missing any values\n",
      "  warnings.warn(\"Input matrix is not missing any values\")\n",
      "C:\\Users\\Daran\\AppData\\Local\\Temp/ipykernel_24548/3817280434.py:6: FutureWarning: Using a non-tuple sequence for multidimensional indexing is deprecated; use `arr[tuple(seq)]` instead of `arr[seq]`. In the future this will be interpreted as an array index, `arr[np.array(seq)]`, which will result either in an error or a different result.\n",
      "  data_series[7:][[ad_label[i] == 1]] = X_filled_knn[7:][[ad_label[i] == 1]]\n",
      "C:\\Users\\Daran\\AppData\\Local\\Temp/ipykernel_24548/3817280434.py:6: FutureWarning: Using a non-tuple sequence for multidimensional indexing is deprecated; use `arr[tuple(seq)]` instead of `arr[seq]`. In the future this will be interpreted as an array index, `arr[np.array(seq)]`, which will result either in an error or a different result.\n",
      "  data_series[7:][[ad_label[i] == 1]] = X_filled_knn[7:][[ad_label[i] == 1]]\n",
      "D:\\Anaconda\\envs\\MDandNLP\\lib\\site-packages\\fancyimpute\\solver.py:55: UserWarning: Input matrix is not missing any values\n",
      "  warnings.warn(\"Input matrix is not missing any values\")\n",
      "C:\\Users\\Daran\\AppData\\Local\\Temp/ipykernel_24548/3817280434.py:6: FutureWarning: Using a non-tuple sequence for multidimensional indexing is deprecated; use `arr[tuple(seq)]` instead of `arr[seq]`. In the future this will be interpreted as an array index, `arr[np.array(seq)]`, which will result either in an error or a different result.\n",
      "  data_series[7:][[ad_label[i] == 1]] = X_filled_knn[7:][[ad_label[i] == 1]]\n",
      "C:\\Users\\Daran\\AppData\\Local\\Temp/ipykernel_24548/3817280434.py:6: FutureWarning: Using a non-tuple sequence for multidimensional indexing is deprecated; use `arr[tuple(seq)]` instead of `arr[seq]`. In the future this will be interpreted as an array index, `arr[np.array(seq)]`, which will result either in an error or a different result.\n",
      "  data_series[7:][[ad_label[i] == 1]] = X_filled_knn[7:][[ad_label[i] == 1]]\n",
      "D:\\Anaconda\\envs\\MDandNLP\\lib\\site-packages\\fancyimpute\\solver.py:55: UserWarning: Input matrix is not missing any values\n",
      "  warnings.warn(\"Input matrix is not missing any values\")\n",
      "C:\\Users\\Daran\\AppData\\Local\\Temp/ipykernel_24548/3817280434.py:6: FutureWarning: Using a non-tuple sequence for multidimensional indexing is deprecated; use `arr[tuple(seq)]` instead of `arr[seq]`. In the future this will be interpreted as an array index, `arr[np.array(seq)]`, which will result either in an error or a different result.\n",
      "  data_series[7:][[ad_label[i] == 1]] = X_filled_knn[7:][[ad_label[i] == 1]]\n",
      "C:\\Users\\Daran\\AppData\\Local\\Temp/ipykernel_24548/3817280434.py:6: FutureWarning: Using a non-tuple sequence for multidimensional indexing is deprecated; use `arr[tuple(seq)]` instead of `arr[seq]`. In the future this will be interpreted as an array index, `arr[np.array(seq)]`, which will result either in an error or a different result.\n",
      "  data_series[7:][[ad_label[i] == 1]] = X_filled_knn[7:][[ad_label[i] == 1]]\n",
      "D:\\Anaconda\\envs\\MDandNLP\\lib\\site-packages\\fancyimpute\\solver.py:55: UserWarning: Input matrix is not missing any values\n",
      "  warnings.warn(\"Input matrix is not missing any values\")\n",
      "C:\\Users\\Daran\\AppData\\Local\\Temp/ipykernel_24548/3817280434.py:6: FutureWarning: Using a non-tuple sequence for multidimensional indexing is deprecated; use `arr[tuple(seq)]` instead of `arr[seq]`. In the future this will be interpreted as an array index, `arr[np.array(seq)]`, which will result either in an error or a different result.\n",
      "  data_series[7:][[ad_label[i] == 1]] = X_filled_knn[7:][[ad_label[i] == 1]]\n",
      "C:\\Users\\Daran\\AppData\\Local\\Temp/ipykernel_24548/3817280434.py:6: FutureWarning: Using a non-tuple sequence for multidimensional indexing is deprecated; use `arr[tuple(seq)]` instead of `arr[seq]`. In the future this will be interpreted as an array index, `arr[np.array(seq)]`, which will result either in an error or a different result.\n",
      "  data_series[7:][[ad_label[i] == 1]] = X_filled_knn[7:][[ad_label[i] == 1]]\n",
      "D:\\Anaconda\\envs\\MDandNLP\\lib\\site-packages\\fancyimpute\\solver.py:55: UserWarning: Input matrix is not missing any values\n",
      "  warnings.warn(\"Input matrix is not missing any values\")\n",
      "C:\\Users\\Daran\\AppData\\Local\\Temp/ipykernel_24548/3817280434.py:6: FutureWarning: Using a non-tuple sequence for multidimensional indexing is deprecated; use `arr[tuple(seq)]` instead of `arr[seq]`. In the future this will be interpreted as an array index, `arr[np.array(seq)]`, which will result either in an error or a different result.\n",
      "  data_series[7:][[ad_label[i] == 1]] = X_filled_knn[7:][[ad_label[i] == 1]]\n",
      "C:\\Users\\Daran\\AppData\\Local\\Temp/ipykernel_24548/3817280434.py:6: FutureWarning: Using a non-tuple sequence for multidimensional indexing is deprecated; use `arr[tuple(seq)]` instead of `arr[seq]`. In the future this will be interpreted as an array index, `arr[np.array(seq)]`, which will result either in an error or a different result.\n",
      "  data_series[7:][[ad_label[i] == 1]] = X_filled_knn[7:][[ad_label[i] == 1]]\n",
      "D:\\Anaconda\\envs\\MDandNLP\\lib\\site-packages\\fancyimpute\\solver.py:55: UserWarning: Input matrix is not missing any values\n",
      "  warnings.warn(\"Input matrix is not missing any values\")\n",
      "C:\\Users\\Daran\\AppData\\Local\\Temp/ipykernel_24548/3817280434.py:6: FutureWarning: Using a non-tuple sequence for multidimensional indexing is deprecated; use `arr[tuple(seq)]` instead of `arr[seq]`. In the future this will be interpreted as an array index, `arr[np.array(seq)]`, which will result either in an error or a different result.\n",
      "  data_series[7:][[ad_label[i] == 1]] = X_filled_knn[7:][[ad_label[i] == 1]]\n",
      "C:\\Users\\Daran\\AppData\\Local\\Temp/ipykernel_24548/3817280434.py:6: FutureWarning: Using a non-tuple sequence for multidimensional indexing is deprecated; use `arr[tuple(seq)]` instead of `arr[seq]`. In the future this will be interpreted as an array index, `arr[np.array(seq)]`, which will result either in an error or a different result.\n",
      "  data_series[7:][[ad_label[i] == 1]] = X_filled_knn[7:][[ad_label[i] == 1]]\n",
      "D:\\Anaconda\\envs\\MDandNLP\\lib\\site-packages\\fancyimpute\\solver.py:55: UserWarning: Input matrix is not missing any values\n",
      "  warnings.warn(\"Input matrix is not missing any values\")\n",
      "C:\\Users\\Daran\\AppData\\Local\\Temp/ipykernel_24548/3817280434.py:6: FutureWarning: Using a non-tuple sequence for multidimensional indexing is deprecated; use `arr[tuple(seq)]` instead of `arr[seq]`. In the future this will be interpreted as an array index, `arr[np.array(seq)]`, which will result either in an error or a different result.\n",
      "  data_series[7:][[ad_label[i] == 1]] = X_filled_knn[7:][[ad_label[i] == 1]]\n",
      "C:\\Users\\Daran\\AppData\\Local\\Temp/ipykernel_24548/3817280434.py:6: FutureWarning: Using a non-tuple sequence for multidimensional indexing is deprecated; use `arr[tuple(seq)]` instead of `arr[seq]`. In the future this will be interpreted as an array index, `arr[np.array(seq)]`, which will result either in an error or a different result.\n",
      "  data_series[7:][[ad_label[i] == 1]] = X_filled_knn[7:][[ad_label[i] == 1]]\n",
      "D:\\Anaconda\\envs\\MDandNLP\\lib\\site-packages\\fancyimpute\\solver.py:55: UserWarning: Input matrix is not missing any values\n",
      "  warnings.warn(\"Input matrix is not missing any values\")\n",
      "C:\\Users\\Daran\\AppData\\Local\\Temp/ipykernel_24548/3817280434.py:6: FutureWarning: Using a non-tuple sequence for multidimensional indexing is deprecated; use `arr[tuple(seq)]` instead of `arr[seq]`. In the future this will be interpreted as an array index, `arr[np.array(seq)]`, which will result either in an error or a different result.\n",
      "  data_series[7:][[ad_label[i] == 1]] = X_filled_knn[7:][[ad_label[i] == 1]]\n",
      "C:\\Users\\Daran\\AppData\\Local\\Temp/ipykernel_24548/3817280434.py:6: FutureWarning: Using a non-tuple sequence for multidimensional indexing is deprecated; use `arr[tuple(seq)]` instead of `arr[seq]`. In the future this will be interpreted as an array index, `arr[np.array(seq)]`, which will result either in an error or a different result.\n",
      "  data_series[7:][[ad_label[i] == 1]] = X_filled_knn[7:][[ad_label[i] == 1]]\n",
      "D:\\Anaconda\\envs\\MDandNLP\\lib\\site-packages\\fancyimpute\\solver.py:55: UserWarning: Input matrix is not missing any values\n",
      "  warnings.warn(\"Input matrix is not missing any values\")\n",
      "C:\\Users\\Daran\\AppData\\Local\\Temp/ipykernel_24548/3817280434.py:6: FutureWarning: Using a non-tuple sequence for multidimensional indexing is deprecated; use `arr[tuple(seq)]` instead of `arr[seq]`. In the future this will be interpreted as an array index, `arr[np.array(seq)]`, which will result either in an error or a different result.\n",
      "  data_series[7:][[ad_label[i] == 1]] = X_filled_knn[7:][[ad_label[i] == 1]]\n",
      "C:\\Users\\Daran\\AppData\\Local\\Temp/ipykernel_24548/3817280434.py:6: FutureWarning: Using a non-tuple sequence for multidimensional indexing is deprecated; use `arr[tuple(seq)]` instead of `arr[seq]`. In the future this will be interpreted as an array index, `arr[np.array(seq)]`, which will result either in an error or a different result.\n",
      "  data_series[7:][[ad_label[i] == 1]] = X_filled_knn[7:][[ad_label[i] == 1]]\n"
     ]
    }
   ],
   "source": [
    "mean_user_pre_time = change_anomaly_point(train_data, now_target_col,mean_user_anomaly)"
   ]
  },
  {
   "cell_type": "code",
   "execution_count": null,
   "metadata": {},
   "outputs": [],
   "source": [
    "mean_user_pre_time"
   ]
  },
  {
   "cell_type": "code",
   "execution_count": 19,
   "metadata": {},
   "outputs": [
    {
     "data": {
      "text/plain": [
       "(58, 696)"
      ]
     },
     "execution_count": 19,
     "metadata": {},
     "output_type": "execute_result"
    }
   ],
   "source": [
    "mean_user_pre_time.shape"
   ]
  },
  {
   "cell_type": "code",
   "execution_count": 20,
   "metadata": {},
   "outputs": [],
   "source": [
    "def mape(y_true, y_pred):\n",
    "    \"\"\"\n",
    "    参数:\n",
    "    y_true -- 测试集目标真实值\n",
    "    y_pred -- 测试集目标预测值\n",
    "    \n",
    "    返回:\n",
    "    mape -- MAPE 评价指标\n",
    "    \"\"\"\n",
    "    \n",
    "    n = len(y_true)\n",
    "    mape = np.mean(sum(np.abs((y_true - y_pred)/y_true))/n*100)\n",
    "    return mape"
   ]
  },
  {
   "cell_type": "markdown",
   "metadata": {},
   "source": [
    "模拟train和val的过程，实质在验证auto_arima的拟合效果\n",
    "由于本地电脑机能有限，实际生成结果的代码在远程电脑运行，因此此代码可以运行并生成结果但是并没有运行状态保留"
   ]
  },
  {
   "cell_type": "code",
   "execution_count": 21,
   "metadata": {},
   "outputs": [
    {
     "name": "stdout",
     "output_type": "stream",
     "text": [
      "15.36777312730857\n",
      "20.267291951655007\n",
      "10.569683879271622\n",
      "1406.1911394134934\n",
      "2061.1742224221002\n",
      "35.6939843526144\n",
      "15.583462414837987\n",
      "20.23830447395234\n"
     ]
    },
    {
     "name": "stderr",
     "output_type": "stream",
     "text": [
      "C:\\Users\\Daran\\AppData\\Local\\Temp/ipykernel_24548/1423323665.py:12: RuntimeWarning: divide by zero encountered in true_divide\n",
      "  mape = np.mean(sum(np.abs((y_true - y_pred)/y_true))/n*100)\n",
      "C:\\Users\\Daran\\AppData\\Local\\Temp/ipykernel_24548/1423323665.py:12: RuntimeWarning: divide by zero encountered in true_divide\n",
      "  mape = np.mean(sum(np.abs((y_true - y_pred)/y_true))/n*100)\n"
     ]
    },
    {
     "name": "stdout",
     "output_type": "stream",
     "text": [
      "inf\n",
      "67.75100252870236\n",
      "36.12879359793623\n"
     ]
    },
    {
     "name": "stderr",
     "output_type": "stream",
     "text": [
      "C:\\Users\\Daran\\AppData\\Local\\Temp/ipykernel_24548/1423323665.py:12: RuntimeWarning: divide by zero encountered in true_divide\n",
      "  mape = np.mean(sum(np.abs((y_true - y_pred)/y_true))/n*100)\n",
      "C:\\Users\\Daran\\AppData\\Local\\Temp/ipykernel_24548/1423323665.py:12: RuntimeWarning: divide by zero encountered in true_divide\n",
      "  mape = np.mean(sum(np.abs((y_true - y_pred)/y_true))/n*100)\n"
     ]
    },
    {
     "name": "stdout",
     "output_type": "stream",
     "text": [
      "inf\n",
      "13.516387846222408\n",
      "14.662504578062624\n",
      "16.11899144733937\n",
      "25.024648651167613\n",
      "19.31151863390862\n",
      "33.6959796085601\n",
      "21.650924671119185\n",
      "37.17341763002035\n",
      "20.73150370848217\n",
      "9.989969951116437\n"
     ]
    },
    {
     "ename": "ValueError",
     "evalue": "Input contains NaN, infinity or a value too large for dtype('float64').",
     "output_type": "error",
     "traceback": [
      "\u001b[1;31m---------------------------------------------------------------------------\u001b[0m",
      "\u001b[1;31mValueError\u001b[0m                                Traceback (most recent call last)",
      "\u001b[1;32m~\\AppData\\Local\\Temp/ipykernel_24548/3331861869.py\u001b[0m in \u001b[0;36m<module>\u001b[1;34m\u001b[0m\n\u001b[0;32m      8\u001b[0m \u001b[1;33m\u001b[0m\u001b[0m\n\u001b[0;32m      9\u001b[0m     \u001b[0mmodel\u001b[0m \u001b[1;33m=\u001b[0m \u001b[0mpm\u001b[0m\u001b[1;33m.\u001b[0m\u001b[0mauto_arima\u001b[0m\u001b[1;33m(\u001b[0m\u001b[0mtrain_data\u001b[0m\u001b[1;33m,\u001b[0m \u001b[0mseasonal\u001b[0m\u001b[1;33m=\u001b[0m\u001b[1;32mTrue\u001b[0m\u001b[1;33m,\u001b[0m \u001b[0mm\u001b[0m\u001b[1;33m=\u001b[0m\u001b[1;36m24\u001b[0m\u001b[1;33m)\u001b[0m\u001b[1;33m\u001b[0m\u001b[1;33m\u001b[0m\u001b[0m\n\u001b[1;32m---> 10\u001b[1;33m     \u001b[0mforecasts\u001b[0m \u001b[1;33m=\u001b[0m \u001b[0mmodel\u001b[0m\u001b[1;33m.\u001b[0m\u001b[0mpredict\u001b[0m\u001b[1;33m(\u001b[0m\u001b[1;36m72\u001b[0m\u001b[1;33m)\u001b[0m\u001b[1;33m\u001b[0m\u001b[1;33m\u001b[0m\u001b[0m\n\u001b[0m\u001b[0;32m     11\u001b[0m \u001b[1;33m\u001b[0m\u001b[0m\n\u001b[0;32m     12\u001b[0m     \u001b[0mprint\u001b[0m\u001b[1;33m(\u001b[0m\u001b[0mmape\u001b[0m\u001b[1;33m(\u001b[0m\u001b[0mval_data\u001b[0m\u001b[1;33m,\u001b[0m \u001b[0mforecasts\u001b[0m\u001b[1;33m)\u001b[0m\u001b[1;33m)\u001b[0m\u001b[1;33m\u001b[0m\u001b[1;33m\u001b[0m\u001b[0m\n",
      "\u001b[1;32mD:\\Anaconda\\envs\\MDandNLP\\lib\\site-packages\\pmdarima\\arima\\arima.py\u001b[0m in \u001b[0;36mpredict\u001b[1;34m(self, n_periods, X, return_conf_int, alpha, **kwargs)\u001b[0m\n\u001b[0;32m    789\u001b[0m         \u001b[0mend\u001b[0m \u001b[1;33m=\u001b[0m \u001b[0marima\u001b[0m\u001b[1;33m.\u001b[0m\u001b[0mnobs\u001b[0m \u001b[1;33m+\u001b[0m \u001b[0mn_periods\u001b[0m \u001b[1;33m-\u001b[0m \u001b[1;36m1\u001b[0m\u001b[1;33m\u001b[0m\u001b[1;33m\u001b[0m\u001b[0m\n\u001b[0;32m    790\u001b[0m \u001b[1;33m\u001b[0m\u001b[0m\n\u001b[1;32m--> 791\u001b[1;33m         f, conf_int = _seasonal_prediction_with_confidence(\n\u001b[0m\u001b[0;32m    792\u001b[0m             \u001b[0marima_res\u001b[0m\u001b[1;33m=\u001b[0m\u001b[0marima\u001b[0m\u001b[1;33m,\u001b[0m\u001b[1;33m\u001b[0m\u001b[1;33m\u001b[0m\u001b[0m\n\u001b[0;32m    793\u001b[0m             \u001b[0mstart\u001b[0m\u001b[1;33m=\u001b[0m\u001b[0marima\u001b[0m\u001b[1;33m.\u001b[0m\u001b[0mnobs\u001b[0m\u001b[1;33m,\u001b[0m\u001b[1;33m\u001b[0m\u001b[1;33m\u001b[0m\u001b[0m\n",
      "\u001b[1;32mD:\\Anaconda\\envs\\MDandNLP\\lib\\site-packages\\pmdarima\\arima\\arima.py\u001b[0m in \u001b[0;36m_seasonal_prediction_with_confidence\u001b[1;34m(arima_res, start, end, X, alpha, **kwargs)\u001b[0m\n\u001b[0;32m    201\u001b[0m \u001b[1;33m\u001b[0m\u001b[0m\n\u001b[0;32m    202\u001b[0m     \u001b[1;32mreturn\u001b[0m \u001b[0mcheck_endog\u001b[0m\u001b[1;33m(\u001b[0m\u001b[0mf\u001b[0m\u001b[1;33m,\u001b[0m \u001b[0mdtype\u001b[0m\u001b[1;33m=\u001b[0m\u001b[1;32mNone\u001b[0m\u001b[1;33m,\u001b[0m \u001b[0mcopy\u001b[0m\u001b[1;33m=\u001b[0m\u001b[1;32mFalse\u001b[0m\u001b[1;33m)\u001b[0m\u001b[1;33m,\u001b[0m\u001b[0;31m \u001b[0m\u001b[0;31m\\\u001b[0m\u001b[1;33m\u001b[0m\u001b[1;33m\u001b[0m\u001b[0m\n\u001b[1;32m--> 203\u001b[1;33m         \u001b[0mcheck_array\u001b[0m\u001b[1;33m(\u001b[0m\u001b[0mconf_int\u001b[0m\u001b[1;33m,\u001b[0m \u001b[0mcopy\u001b[0m\u001b[1;33m=\u001b[0m\u001b[1;32mFalse\u001b[0m\u001b[1;33m,\u001b[0m \u001b[0mdtype\u001b[0m\u001b[1;33m=\u001b[0m\u001b[1;32mNone\u001b[0m\u001b[1;33m)\u001b[0m\u001b[1;33m\u001b[0m\u001b[1;33m\u001b[0m\u001b[0m\n\u001b[0m\u001b[0;32m    204\u001b[0m \u001b[1;33m\u001b[0m\u001b[0m\n\u001b[0;32m    205\u001b[0m \u001b[1;33m\u001b[0m\u001b[0m\n",
      "\u001b[1;32mD:\\Anaconda\\envs\\MDandNLP\\lib\\site-packages\\sklearn\\utils\\validation.py\u001b[0m in \u001b[0;36mcheck_array\u001b[1;34m(array, accept_sparse, accept_large_sparse, dtype, order, copy, force_all_finite, ensure_2d, allow_nd, ensure_min_samples, ensure_min_features, estimator)\u001b[0m\n\u001b[0;32m    790\u001b[0m \u001b[1;33m\u001b[0m\u001b[0m\n\u001b[0;32m    791\u001b[0m         \u001b[1;32mif\u001b[0m \u001b[0mforce_all_finite\u001b[0m\u001b[1;33m:\u001b[0m\u001b[1;33m\u001b[0m\u001b[1;33m\u001b[0m\u001b[0m\n\u001b[1;32m--> 792\u001b[1;33m             \u001b[0m_assert_all_finite\u001b[0m\u001b[1;33m(\u001b[0m\u001b[0marray\u001b[0m\u001b[1;33m,\u001b[0m \u001b[0mallow_nan\u001b[0m\u001b[1;33m=\u001b[0m\u001b[0mforce_all_finite\u001b[0m \u001b[1;33m==\u001b[0m \u001b[1;34m\"allow-nan\"\u001b[0m\u001b[1;33m)\u001b[0m\u001b[1;33m\u001b[0m\u001b[1;33m\u001b[0m\u001b[0m\n\u001b[0m\u001b[0;32m    793\u001b[0m \u001b[1;33m\u001b[0m\u001b[0m\n\u001b[0;32m    794\u001b[0m     \u001b[1;32mif\u001b[0m \u001b[0mensure_min_samples\u001b[0m \u001b[1;33m>\u001b[0m \u001b[1;36m0\u001b[0m\u001b[1;33m:\u001b[0m\u001b[1;33m\u001b[0m\u001b[1;33m\u001b[0m\u001b[0m\n",
      "\u001b[1;32mD:\\Anaconda\\envs\\MDandNLP\\lib\\site-packages\\sklearn\\utils\\validation.py\u001b[0m in \u001b[0;36m_assert_all_finite\u001b[1;34m(X, allow_nan, msg_dtype)\u001b[0m\n\u001b[0;32m    112\u001b[0m         ):\n\u001b[0;32m    113\u001b[0m             \u001b[0mtype_err\u001b[0m \u001b[1;33m=\u001b[0m \u001b[1;34m\"infinity\"\u001b[0m \u001b[1;32mif\u001b[0m \u001b[0mallow_nan\u001b[0m \u001b[1;32melse\u001b[0m \u001b[1;34m\"NaN, infinity\"\u001b[0m\u001b[1;33m\u001b[0m\u001b[1;33m\u001b[0m\u001b[0m\n\u001b[1;32m--> 114\u001b[1;33m             raise ValueError(\n\u001b[0m\u001b[0;32m    115\u001b[0m                 msg_err.format(\n\u001b[0;32m    116\u001b[0m                     \u001b[0mtype_err\u001b[0m\u001b[1;33m,\u001b[0m \u001b[0mmsg_dtype\u001b[0m \u001b[1;32mif\u001b[0m \u001b[0mmsg_dtype\u001b[0m \u001b[1;32mis\u001b[0m \u001b[1;32mnot\u001b[0m \u001b[1;32mNone\u001b[0m \u001b[1;32melse\u001b[0m \u001b[0mX\u001b[0m\u001b[1;33m.\u001b[0m\u001b[0mdtype\u001b[0m\u001b[1;33m\u001b[0m\u001b[1;33m\u001b[0m\u001b[0m\n",
      "\u001b[1;31mValueError\u001b[0m: Input contains NaN, infinity or a value too large for dtype('float64')."
     ]
    }
   ],
   "source": [
    "all_mape = []\n",
    "all_forecast = []\n",
    "all_val = []\n",
    "for i in range(len(community_id)):\n",
    "    all_data = mean_user_pre_time[i]\n",
    "    train_data = all_data[:len(all_data)-72]\n",
    "    val_data = all_data[len(all_data)-72:]\n",
    "\n",
    "    model = pm.auto_arima(train_data, seasonal=True, m=24)\n",
    "    forecasts = model.predict(72)\n",
    "\n",
    "    print(mape(val_data, forecasts))\n",
    "    loss = mape(val_data, forecasts)\n",
    "\n",
    "    all_mape.append(loss)\n",
    "    all_forecast.append(forecasts)\n",
    "    all_val.append(val_data)"
   ]
  },
  {
   "cell_type": "code",
   "execution_count": null,
   "metadata": {},
   "outputs": [],
   "source": [
    "all_mape"
   ]
  },
  {
   "cell_type": "code",
   "execution_count": null,
   "metadata": {},
   "outputs": [],
   "source": [
    "all_forecast"
   ]
  },
  {
   "cell_type": "markdown",
   "metadata": {},
   "source": [
    "进行真实预测并且将结果写入提交文件中"
   ]
  },
  {
   "cell_type": "code",
   "execution_count": null,
   "metadata": {},
   "outputs": [],
   "source": [
    "all_forecast = []\n",
    "all_val = []\n",
    "for i in range(len(community_id)):\n",
    "    all_data = mean_user_pre_time[i]\n",
    "    train_data = all_data[:]\n",
    "   \n",
    "    model = pm.auto_arima(train_data, seasonal=True, m=24)\n",
    "    forecasts = model.predict(72)\n",
    "    \n",
    "    test_data[test_data[\"小区编号\"] == community_id[i]][now_target_col] = forecasts\n",
    "\n",
    "    all_forecast.append(forecasts)\n",
    "    \n",
    "    "
   ]
  },
  {
   "cell_type": "code",
   "execution_count": null,
   "metadata": {},
   "outputs": [],
   "source": [
    "test_data"
   ]
  },
  {
   "cell_type": "code",
   "execution_count": null,
   "metadata": {},
   "outputs": [],
   "source": []
  }
 ],
 "metadata": {
  "kernelspec": {
   "display_name": "MDandNLP",
   "language": "python",
   "name": "mdandnlp"
  },
  "language_info": {
   "codemirror_mode": {
    "name": "ipython",
    "version": 3
   },
   "file_extension": ".py",
   "mimetype": "text/x-python",
   "name": "python",
   "nbconvert_exporter": "python",
   "pygments_lexer": "ipython3",
   "version": "3.8.0"
  },
  "orig_nbformat": 4
 },
 "nbformat": 4,
 "nbformat_minor": 2
}
